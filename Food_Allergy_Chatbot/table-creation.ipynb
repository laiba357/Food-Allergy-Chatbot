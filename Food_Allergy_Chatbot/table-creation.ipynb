{
 "cells": [
  {
   "cell_type": "code",
   "execution_count": 1,
   "metadata": {},
   "outputs": [],
   "source": [
    "import pandas as pd\n",
    "import sqlite3\n",
    "\n",
    "# Create a new database file or connect to an existing one\n",
    "conn = sqlite3.connect('food_allergy.db')  # This file will be created in your project directory\n",
    "cursor = conn.cursor()\n"
   ]
  },
  {
   "cell_type": "markdown",
   "metadata": {},
   "source": [
    "Inserting Data into the EmergencySymptoms Table"
   ]
  },
  {
   "cell_type": "code",
   "execution_count": 2,
   "metadata": {},
   "outputs": [
    {
     "data": {
      "text/plain": [
       "<sqlite3.Cursor at 0x79c39a1cae40>"
      ]
     },
     "execution_count": 2,
     "metadata": {},
     "output_type": "execute_result"
    }
   ],
   "source": [
    "conn = sqlite3.connect('food_allergy.db')\n",
    "cursor = conn.cursor()\n",
    "\n",
    "# Create the EmergencySymptoms table\n",
    "cursor.execute('''\n",
    "CREATE TABLE IF NOT EXISTS EmergencySymptoms (\n",
    "    SymptomID INTEGER PRIMARY KEY AUTOINCREMENT,\n",
    "    Description TEXT,\n",
    "    Severity TEXT\n",
    ")\n",
    "''')"
   ]
  },
  {
   "cell_type": "code",
   "execution_count": 3,
   "metadata": {},
   "outputs": [],
   "source": [
    "emergency_symptoms = [\n",
    "        ('Constriction of airways that makes it difficult to breathe', 'High'),\n",
    "        ('Shock with a severe drop in blood pressure', 'High'),\n",
    "        ('Rapid pulse', 'High'),\n",
    "        ('Dizziness or lightheadedness', 'High'),\n",
    "        ('Difficulty breathing', 'High'),\n",
    "        ('Chest tightness', 'High'),\n",
    "        ('Hives all over your body', 'High'),\n",
    "        ('Tingling hands, feet or lips', 'High'),\n",
    "        ('Throat swelling that constricts your airway', 'High'),\n",
    "        ('Trouble breathing or wheezing', 'High'),\n",
    "        ('Feeling as if the throat is closing or that the lips and tongue are swelling', 'High'),\n",
    "        ('Flushing of the skin', 'High'),\n",
    "        ('Itching of palms and soles of feet', 'High'),\n",
    "        ('Feeling faint', 'High'),\n",
    "        ('Nausea', 'High'),\n",
    "        ('Fast pulse', 'High'),\n",
    "        ('Low blood pressure', 'High'),\n",
    "        ('Loss of consciousness', 'High')\n",
    "    ]\n",
    "\n",
    "    # Insert data into the table\n",
    "cursor.executemany('''\n",
    "INSERT INTO EmergencySymptoms (Description, Severity) VALUES (?, ?)\n",
    "''', emergency_symptoms)\n",
    "\n",
    "# Commit changes and close connection\n",
    "conn.commit()\n",
    "conn.close()"
   ]
  },
  {
   "cell_type": "markdown",
   "metadata": {},
   "source": [
    "SQL Table Creation for Precautions"
   ]
  },
  {
   "cell_type": "code",
   "execution_count": 4,
   "metadata": {},
   "outputs": [
    {
     "data": {
      "text/plain": [
       "<sqlite3.Cursor at 0x79c389642040>"
      ]
     },
     "execution_count": 4,
     "metadata": {},
     "output_type": "execute_result"
    }
   ],
   "source": [
    "conn = sqlite3.connect('food_allergy.db')\n",
    "cursor = conn.cursor()\n",
    "\n",
    "# Create the Precautions table\n",
    "cursor.execute('''\n",
    "CREATE TABLE IF NOT EXISTS Precautions (\n",
    "    ID INTEGER PRIMARY KEY AUTOINCREMENT,\n",
    "    Action TEXT,\n",
    "    Category TEXT,\n",
    "    Detail TEXT\n",
    ")\n",
    "''')"
   ]
  },
  {
   "cell_type": "code",
   "execution_count": 5,
   "metadata": {},
   "outputs": [],
   "source": [
    "precautions = [\n",
    "        (\"Check food labels and restaurant menus carefully\", \"Can Do\", \"Make sure they do not contain the food you're allergic to\"),\n",
    "        (\"Tell friends, family, nursery, school and work about your allergy\", \"Can Do\", None),\n",
    "        (\"Carry 2 adrenaline auto-injectors with you at all times\", \"Can Do\", \"If you need them\"),\n",
    "        (\"Tell staff at restaurants and cafés about your allergy\", \"Can Do\", None),\n",
    "        (\"Tell airlines and cabin staff about your allergy before you fly\", \"Can Do\", None),\n",
    "        (\"Wipe down surfaces in public before eating\", \"Can Do\", None),\n",
    "        (\"Do not eat foods without checking what ingredients are in them first\", \"Cannot Do\", None),\n",
    "        (\"Do not cut foods out of your diet without speaking to a GP\", \"Cannot Do\", None)\n",
    "    ]\n",
    "\n",
    "    # Insert data into the table\n",
    "cursor.executemany('''\n",
    "INSERT INTO Precautions (Action, Category, Detail) VALUES (?, ?, ?)\n",
    "''', precautions)\n",
    "\n",
    "# Commit changes and close connection\n",
    "conn.commit()\n",
    "conn.close()"
   ]
  },
  {
   "cell_type": "markdown",
   "metadata": {},
   "source": [
    "Table Creation for PreventionTips"
   ]
  },
  {
   "cell_type": "code",
   "execution_count": 6,
   "metadata": {},
   "outputs": [
    {
     "data": {
      "text/plain": [
       "<sqlite3.Cursor at 0x79c39a2d2cc0>"
      ]
     },
     "execution_count": 6,
     "metadata": {},
     "output_type": "execute_result"
    }
   ],
   "source": [
    "conn = sqlite3.connect('food_allergy.db')\n",
    "cursor = conn.cursor()\n",
    "\n",
    "# Create the PreventionTips table\n",
    "cursor.execute('''\n",
    "CREATE TABLE IF NOT EXISTS PreventionTips (\n",
    "    TipID INTEGER PRIMARY KEY AUTOINCREMENT,\n",
    "    Description TEXT,\n",
    "    Context TEXT\n",
    ")\n",
    "''')"
   ]
  },
  {
   "cell_type": "code",
   "execution_count": 7,
   "metadata": {},
   "outputs": [],
   "source": [
    "prevention_tips = [\n",
    "        (\"Completely avoid the food that causes your symptoms.\", \"General\"),\n",
    "        (\"Always read food labels to ensure they do not contain allergens.\", \"At Home\"),\n",
    "        (\"Read food labels carefully to avoid common allergens like milk, eggs, peanuts, etc.\", \"Shopping\"),\n",
    "        (\"When in doubt at restaurants or social gatherings, do not eat the food.\", \"Restaurants\"),\n",
    "        (\"Involve caregivers, ensuring they understand the importance of avoiding allergens.\", \"With Caregivers\"),\n",
    "        (\"Breastfeeding may prevent milk allergies in babies. Discuss early introduction of allergenic foods with your healthcare provider.\", \"For Infants\"),\n",
    "        (\"Avoiding the allergen is the primary treatment for food allergies.\", \"General\")\n",
    "    ]\n",
    "\n",
    "    # Insert data into the table\n",
    "cursor.executemany('''\n",
    "INSERT INTO PreventionTips (Description, Context) VALUES (?, ?)\n",
    "''', prevention_tips)\n",
    "\n",
    "# Commit changes and close connection\n",
    "conn.commit()\n",
    "conn.close()"
   ]
  },
  {
   "cell_type": "markdown",
   "metadata": {},
   "source": [
    "SQL Table Creation for Food Allergies ad their symptoms"
   ]
  },
  {
   "cell_type": "code",
   "execution_count": 10,
   "metadata": {},
   "outputs": [
    {
     "data": {
      "text/plain": [
       "<sqlite3.Cursor at 0x70bb6a787ac0>"
      ]
     },
     "execution_count": 10,
     "metadata": {},
     "output_type": "execute_result"
    }
   ],
   "source": [
    "conn = sqlite3.connect('food_allergy.db')\n",
    "cursor = conn.cursor()\n",
    "\n",
    "# Create the FoodAllergies table\n",
    "cursor.execute('''\n",
    "CREATE TABLE IF NOT EXISTS FoodAllergies (\n",
    "    FoodID INTEGER PRIMARY KEY AUTOINCREMENT,\n",
    "    FoodName TEXT,\n",
    "    Symptoms TEXT\n",
    ")\n",
    "''')"
   ]
  },
  {
   "cell_type": "code",
   "execution_count": 11,
   "metadata": {},
   "outputs": [],
   "source": [
    "food_allergies = [\n",
    "        (\"Peanuts\", \"Skin reactions like hives, redness, or swelling, digestive discomfort, tightening of the throat, shortness of breath, and anaphylaxis.\"),\n",
    "        (\"Tree Nuts (walnuts, almonds, cashews, pistachios)\", \"Similar to peanut allergies, including abdominal pain, cramps, nausea, vomiting, difficulty swallowing, and anaphylaxis.\"),\n",
    "        (\"Milk\", \"Hives, vomiting, digestive problems, and can cause anaphylaxis in severe cases. Often confused with lactose intolerance.\"),\n",
    "        (\"Eggs\", \"Skin reactions, respiratory problems, stomach pain, and in rare cases, anaphylaxis.\"),\n",
    "        (\"Fish\", \"Hives, nausea, headaches, anaphylaxis, and asthma-like symptoms such as breathing difficulties.\"),\n",
    "        (\"Shellfish (shrimp, prawns, lobster, crab)\", \"Vomiting, diarrhea, stomach pain, indigestion, wheezing, repetitive cough, tightness in throat, shock or circulatory collapse, dizziness, and weak pulse.\"),\n",
    "        (\"Wheat\", \"Swelling or irritation of the mouth and throat, hives, nasal congestion, headaches, difficulty breathing, cramps, nausea, or anaphylaxis.\"),\n",
    "        (\"Soy\", \"Itching, tingling in the mouth, swelling of face, throat, or other body parts, skin redness, breathing difficulty (including wheezing), and anaphylaxis in severe cases.\"),\n",
    "        (\"Sesame\", \"Hives, dizziness, nausea, abdominal pain, and anaphylaxis.\")\n",
    "    ]\n",
    "\n",
    "    # Insert data into the table\n",
    "cursor.executemany('''\n",
    "INSERT INTO FoodAllergies (FoodName, Symptoms) VALUES (?, ?)\n",
    "''', food_allergies)\n",
    "conn.commit()\n",
    "conn.close()\n"
   ]
  },
  {
   "cell_type": "markdown",
   "metadata": {},
   "source": [
    "SQL Table Creation for Allergy Tests and Procedures"
   ]
  },
  {
   "cell_type": "code",
   "execution_count": 10,
   "metadata": {},
   "outputs": [
    {
     "data": {
      "text/plain": [
       "<sqlite3.Cursor at 0x79c389643340>"
      ]
     },
     "execution_count": 10,
     "metadata": {},
     "output_type": "execute_result"
    }
   ],
   "source": [
    "conn = sqlite3.connect('food_allergy.db')\n",
    "cursor = conn.cursor()\n",
    "\n",
    "# Create the AllergyTestDetails table\n",
    "cursor.execute('''\n",
    "CREATE TABLE IF NOT EXISTS AllergyTestDetails (\n",
    "    TestID INTEGER PRIMARY KEY AUTOINCREMENT,\n",
    "    TestType TEXT,\n",
    "    Description TEXT,\n",
    "    StepNumber INTEGER,\n",
    "    StepDetail TEXT\n",
    ")\n",
    "''')"
   ]
  },
  {
   "cell_type": "code",
   "execution_count": 11,
   "metadata": {},
   "outputs": [],
   "source": [
    "allergy_test_data = [\n",
    "        (\"Skin-prick Test\", \"A test where a drop of liquid containing a food you may be allergic to is put on your skin to see if it reacts\", 1, \"Apply a small amount of allergen to the skin.\"),\n",
    "        (\"Skin-prick Test\", \"A test where a drop of liquid containing a food you may be allergic to is put on your skin to see if it reacts\", 2, \"Prick the skin to allow allergen to enter beneath the surface.\"),\n",
    "        (\"Skin-prick Test\", \"A skin prick test can determine your reaction to a particular food.\", 1, \"A small amount of the suspected food is placed on the skin of your forearm or back.\"),\n",
    "        (\"Skin-prick Test\", \"A skin prick test can determine your reaction to a particular food.\", 2, \"A healthcare professional pricks your skin with a needle to allow a tiny amount of the substance beneath your skin surface.\"),\n",
    "        (\"Skin-prick Test\", \"A skin prick test can determine your reaction to a particular food.\", 3, \"If you're allergic to the substance, you develop a raised bump or reaction.\"),\n",
    "        (\"Blood Test\", \"A test to measure your immune system's response to particular foods by measuring the allergy-related antibody known as immunoglobulin E (IgE).\", 1, \"Draw a blood sample from the patient.\"),\n",
    "        (\"Blood Test\", \"A test to measure your immune system's response to particular foods by measuring the allergy-related antibody known as immunoglobulin E (IgE).\", 2, \"Analyze the blood sample for allergen-specific antibodies.\"),\n",
    "        (\"Elimination Diet\", \"A special diet where you avoid eating the food you might be allergic to, to see if your symptoms get better.\", 1, \"Eliminate suspect foods for a week or two.\"),\n",
    "        (\"Elimination Diet\", \"A special diet where you avoid eating the food you might be allergic to, to see if your symptoms get better.\", 2, \"Add the food items back into your diet one at a time.\"),\n",
    "        (\"Elimination Diet\", \"A special diet where you avoid eating the food you might be allergic to, to see if your symptoms get better.\", 3, \"Track symptoms to link them to specific foods.\"),\n",
    "        (\"Oral Food Challenge\", \"During this test, you'll be given small but increasing amounts of the food suspected of causing your symptoms.\", 1, \"Conducted in a healthcare professional's office.\"),\n",
    "        (\"Oral Food Challenge\", \"During this test, you'll be given small but increasing amounts of the food suspected of causing your symptoms.\", 2, \"Administer small amounts of the suspected food.\"),\n",
    "        (\"Oral Food Challenge\", \"During this test, you'll be given small but increasing amounts of the food suspected of causing your symptoms.\", 3, \"Monitor for any allergic reactions.\")\n",
    "    ]\n",
    "\n",
    "    # Insert data into the table\n",
    "cursor.executemany('''\n",
    "INSERT INTO AllergyTestDetails (TestType, Description, StepNumber, StepDetail) VALUES (?, ?, ?, ?)\n",
    "''', allergy_test_data)\n",
    "\n",
    "# Commit changes and close the connection\n",
    "conn.commit()\n",
    "conn.close()"
   ]
  },
  {
   "cell_type": "markdown",
   "metadata": {},
   "source": []
  },
  {
   "cell_type": "code",
   "execution_count": 15,
   "metadata": {},
   "outputs": [
    {
     "data": {
      "text/plain": [
       "<sqlite3.Cursor at 0x79c38895d140>"
      ]
     },
     "execution_count": 15,
     "metadata": {},
     "output_type": "execute_result"
    }
   ],
   "source": [
    "conn = sqlite3.connect('food_allergy.db')\n",
    "cursor = conn.cursor()\n",
    "\n",
    "# Create the Treatments table\n",
    "cursor.execute('''\n",
    "    CREATE TABLE IF NOT EXISTS Treatments (\n",
    "        TreatmentID INTEGER PRIMARY KEY AUTOINCREMENT,\n",
    "        TreatmentType TEXT,\n",
    "        Description TEXT,\n",
    "        Details TEXT\n",
    "    )\n",
    "    ''')\n"
   ]
  },
  {
   "cell_type": "code",
   "execution_count": 16,
   "metadata": {},
   "outputs": [],
   "source": [
    "treatment_data = [\n",
    "        (\"Antihistamines\", \"For mild allergic reactions.\", \"Antihistamines can be prescribed or available without a prescription to help reduce symptoms like itching or hives.\"),\n",
    "        (\"Adrenaline Auto-injectors\", \"For severe allergic reactions.\", \"Emergency medicines such as EpiPen for severe allergic reactions. Carry it with you at all times.\"),\n",
    "        (\"General Prevention\", \"Avoid the foods that cause symptoms.\", \"Avoidance is the only way to prevent allergic reactions. Read food labels carefully.\"),\n",
    "        (\"Emergency Injection\", \"For severe reactions.\", \"An emergency injection of epinephrine may be needed and a trip to the emergency room.\"),\n",
    "        (\"Skin-prick Test\", \"Test to identify allergies.\", \"Applies a small amount of allergens to the skin, pricks or scratches through the allergens, and measures reactions.\"),\n",
    "        (\"Blood Test\", \"Test to measure immune response.\", \"Measures the amount of IgE antibody to specific foods.\"),\n",
    "        (\"Elimination Diet\", \"To identify food allergies.\", \"Eliminate suspect foods for a week or two and then reintroduce them one at a time.\"),\n",
    "        (\"Oral Food Challenge\", \"To confirm food allergies.\", \"Small but increasing amounts of suspected food are given to the patient under medical supervision.\"),\n",
    "        (\"General Medicines\", \"To reduce symptoms.\", \"Your healthcare provider may prescribe epinephrine, antihistamines, or corticosteroids.\"),\n",
    "        (\"Emergency Kit\", \"For severe reactions.\", \"You may need an emergency kit to stop severe reactions. Consult your healthcare provider.\"),\n",
    "        (\"Antihistamines\", \"To treat minor reactions.\", \"Antihistamines can help treat minor allergic reactions.\"),\n",
    "        (\"Epinephrine\", \"For severe reactions.\", \"More severe reactions may require the administration of epinephrine.\")\n",
    "    ]\n",
    "\n",
    "    # Insert data into the table\n",
    "cursor.executemany('''\n",
    "INSERT INTO Treatments (TreatmentType, Description, Details) VALUES (?, ?, ?)\n",
    "''', treatment_data)\n",
    "\n",
    "# Commit changes and close the connection\n",
    "conn.commit()\n",
    "conn.close()"
   ]
  },
  {
   "cell_type": "markdown",
   "metadata": {},
   "source": [
    "SQL Table Creation for FoodData.csv"
   ]
  },
  {
   "cell_type": "code",
   "execution_count": null,
   "metadata": {},
   "outputs": [],
   "source": [
    "conn = sqlite3.connect('food_allergy.db')\n",
    "\n",
    "# Read the CSV file into a DataFrame\n",
    "df = pd.read_csv('/give your path to/FoodData.csv')\n",
    "\n",
    "# Create the table and insert data if it doesn't exist\n",
    "df.to_sql('FoodData', conn, if_exists='replace', index=False)\n",
    "\n",
    "# Close the database connection\n",
    "conn.close()"
   ]
  },
  {
   "cell_type": "markdown",
   "metadata": {},
   "source": [
    "ProductRecall Table Creation (the missing data)"
   ]
  },
  {
   "cell_type": "code",
   "execution_count": 7,
   "metadata": {},
   "outputs": [],
   "source": [
    "conn = sqlite3.connect('food_allergy.db')\n",
    "cur = conn.cursor()\n",
    "\n",
    "# Create table\n",
    "cur.execute('''\n",
    "CREATE TABLE ProductRecalls (\n",
    "    ID INTEGER PRIMARY KEY AUTOINCREMENT,\n",
    "    ProductName TEXT,\n",
    "    UndeclaredAllergen TEXT,\n",
    "    ActionTaken TEXT,\n",
    "    RiskToConsumers TEXT\n",
    ");\n",
    "''')\n",
    "conn.commit()"
   ]
  },
  {
   "cell_type": "code",
   "execution_count": 4,
   "metadata": {},
   "outputs": [],
   "source": [
    "cur.execute('DROP TABLE ProductRecalls')\n",
    "conn.commit()"
   ]
  },
  {
   "cell_type": "code",
   "execution_count": 10,
   "metadata": {},
   "outputs": [],
   "source": [
    "recalls = [\n",
    "    ('Chilli & Cheese Tortilla Cup Canapes - undeclared gluten', 'Gluten', 'Recalled', 'Possible adverse effects to allergy sufferers'),\n",
    "    ('Choc chip cookies tins - undeclared milk', 'Milk', 'Recalled', 'Possible adverse effects to allergy sufferers'),\n",
    "    ('Mix of Pretzels, Sticks and Salted Biscuits - undeclared milk', 'Milk', 'Recalled', 'Possible adverse effects to allergy sufferers'),\n",
    "    ('Two types of mixed vegetables products - undeclared milk, gluten, soya and celery', 'Milk, Gluten, Soya, Celery', 'Recalled', 'Possible adverse effects to allergy sufferers'),\n",
    "    ('Bruschetta ai Pomodiri Secchi - undeclared sulphites', 'Sulphites', 'Recalled', 'Possible adverse effects to allergy sufferers'),\n",
    "    ('Almonds and Flaked Almonds - undeclared brazil nuts', 'Brazil Nuts', 'Recalled', 'Possible adverse effects to allergy sufferers'),\n",
    "    ('Two brands of various products - due to incorrect allergen labelling', 'Multiple Undeclared Allergens', 'Recalled', 'Possible adverse effects to allergy sufferers'),\n",
    "    ('Chocolate Coated Honeycomb 100g - undeclared milk and soya', 'Milk, Soya', 'Recalled', 'Possible adverse effects to allergy sufferers'),\n",
    "    ('Assorted “Herring Fillets” products (200g) - undeclared fish, milk, egg, mustard and wheat', 'Fish, Milk, Egg, Mustard, Wheat', 'Recalled', 'Possible adverse effects to allergy sufferers'),\n",
    "    ('Celery, Nut and Sultana Salad - undeclared milk', 'Milk', 'Recalled', 'Possible adverse effects to allergy sufferers'),\n",
    "    # More entries can be added here\n",
    "]\n",
    "\n",
    "# Insert data into the table\n",
    "cur.executemany('''\n",
    "INSERT INTO ProductRecalls (ProductName, UndeclaredAllergen, ActionTaken, RiskToConsumers)\n",
    "VALUES (?, ?, ?, ?)\n",
    "''', recalls)\n",
    "\n",
    "# Commit the changes and close the connection\n",
    "conn.commit()\n",
    "conn.close()\n"
   ]
  },
  {
   "cell_type": "code",
   "execution_count": 3,
   "metadata": {},
   "outputs": [
    {
     "data": {
      "application/vnd.plotly.v1+json": {
       "config": {
        "plotlyServerURL": "https://plot.ly"
       },
       "data": [
        {
         "line": {
          "color": "blue"
         },
         "marker": {
          "color": "red",
          "size": 10
         },
         "mode": "lines+markers",
         "name": "Market Size",
         "text": [
          "$0.54B",
          "$0.61B",
          "$0.67B",
          "$0.95B"
         ],
         "textposition": "top center",
         "type": "scatter",
         "x": [
          2020,
          2021,
          2022,
          2023
         ],
         "y": [
          0.5352810469193533,
          0.6080031441673445,
          0.6695747596821148,
          0.9548178639840292
         ]
        }
       ],
       "layout": {
        "template": {
         "data": {
          "bar": [
           {
            "error_x": {
             "color": "#2a3f5f"
            },
            "error_y": {
             "color": "#2a3f5f"
            },
            "marker": {
             "line": {
              "color": "#E5ECF6",
              "width": 0.5
             },
             "pattern": {
              "fillmode": "overlay",
              "size": 10,
              "solidity": 0.2
             }
            },
            "type": "bar"
           }
          ],
          "barpolar": [
           {
            "marker": {
             "line": {
              "color": "#E5ECF6",
              "width": 0.5
             },
             "pattern": {
              "fillmode": "overlay",
              "size": 10,
              "solidity": 0.2
             }
            },
            "type": "barpolar"
           }
          ],
          "carpet": [
           {
            "aaxis": {
             "endlinecolor": "#2a3f5f",
             "gridcolor": "white",
             "linecolor": "white",
             "minorgridcolor": "white",
             "startlinecolor": "#2a3f5f"
            },
            "baxis": {
             "endlinecolor": "#2a3f5f",
             "gridcolor": "white",
             "linecolor": "white",
             "minorgridcolor": "white",
             "startlinecolor": "#2a3f5f"
            },
            "type": "carpet"
           }
          ],
          "choropleth": [
           {
            "colorbar": {
             "outlinewidth": 0,
             "ticks": ""
            },
            "type": "choropleth"
           }
          ],
          "contour": [
           {
            "colorbar": {
             "outlinewidth": 0,
             "ticks": ""
            },
            "colorscale": [
             [
              0,
              "#0d0887"
             ],
             [
              0.1111111111111111,
              "#46039f"
             ],
             [
              0.2222222222222222,
              "#7201a8"
             ],
             [
              0.3333333333333333,
              "#9c179e"
             ],
             [
              0.4444444444444444,
              "#bd3786"
             ],
             [
              0.5555555555555556,
              "#d8576b"
             ],
             [
              0.6666666666666666,
              "#ed7953"
             ],
             [
              0.7777777777777778,
              "#fb9f3a"
             ],
             [
              0.8888888888888888,
              "#fdca26"
             ],
             [
              1,
              "#f0f921"
             ]
            ],
            "type": "contour"
           }
          ],
          "contourcarpet": [
           {
            "colorbar": {
             "outlinewidth": 0,
             "ticks": ""
            },
            "type": "contourcarpet"
           }
          ],
          "heatmap": [
           {
            "colorbar": {
             "outlinewidth": 0,
             "ticks": ""
            },
            "colorscale": [
             [
              0,
              "#0d0887"
             ],
             [
              0.1111111111111111,
              "#46039f"
             ],
             [
              0.2222222222222222,
              "#7201a8"
             ],
             [
              0.3333333333333333,
              "#9c179e"
             ],
             [
              0.4444444444444444,
              "#bd3786"
             ],
             [
              0.5555555555555556,
              "#d8576b"
             ],
             [
              0.6666666666666666,
              "#ed7953"
             ],
             [
              0.7777777777777778,
              "#fb9f3a"
             ],
             [
              0.8888888888888888,
              "#fdca26"
             ],
             [
              1,
              "#f0f921"
             ]
            ],
            "type": "heatmap"
           }
          ],
          "heatmapgl": [
           {
            "colorbar": {
             "outlinewidth": 0,
             "ticks": ""
            },
            "colorscale": [
             [
              0,
              "#0d0887"
             ],
             [
              0.1111111111111111,
              "#46039f"
             ],
             [
              0.2222222222222222,
              "#7201a8"
             ],
             [
              0.3333333333333333,
              "#9c179e"
             ],
             [
              0.4444444444444444,
              "#bd3786"
             ],
             [
              0.5555555555555556,
              "#d8576b"
             ],
             [
              0.6666666666666666,
              "#ed7953"
             ],
             [
              0.7777777777777778,
              "#fb9f3a"
             ],
             [
              0.8888888888888888,
              "#fdca26"
             ],
             [
              1,
              "#f0f921"
             ]
            ],
            "type": "heatmapgl"
           }
          ],
          "histogram": [
           {
            "marker": {
             "pattern": {
              "fillmode": "overlay",
              "size": 10,
              "solidity": 0.2
             }
            },
            "type": "histogram"
           }
          ],
          "histogram2d": [
           {
            "colorbar": {
             "outlinewidth": 0,
             "ticks": ""
            },
            "colorscale": [
             [
              0,
              "#0d0887"
             ],
             [
              0.1111111111111111,
              "#46039f"
             ],
             [
              0.2222222222222222,
              "#7201a8"
             ],
             [
              0.3333333333333333,
              "#9c179e"
             ],
             [
              0.4444444444444444,
              "#bd3786"
             ],
             [
              0.5555555555555556,
              "#d8576b"
             ],
             [
              0.6666666666666666,
              "#ed7953"
             ],
             [
              0.7777777777777778,
              "#fb9f3a"
             ],
             [
              0.8888888888888888,
              "#fdca26"
             ],
             [
              1,
              "#f0f921"
             ]
            ],
            "type": "histogram2d"
           }
          ],
          "histogram2dcontour": [
           {
            "colorbar": {
             "outlinewidth": 0,
             "ticks": ""
            },
            "colorscale": [
             [
              0,
              "#0d0887"
             ],
             [
              0.1111111111111111,
              "#46039f"
             ],
             [
              0.2222222222222222,
              "#7201a8"
             ],
             [
              0.3333333333333333,
              "#9c179e"
             ],
             [
              0.4444444444444444,
              "#bd3786"
             ],
             [
              0.5555555555555556,
              "#d8576b"
             ],
             [
              0.6666666666666666,
              "#ed7953"
             ],
             [
              0.7777777777777778,
              "#fb9f3a"
             ],
             [
              0.8888888888888888,
              "#fdca26"
             ],
             [
              1,
              "#f0f921"
             ]
            ],
            "type": "histogram2dcontour"
           }
          ],
          "mesh3d": [
           {
            "colorbar": {
             "outlinewidth": 0,
             "ticks": ""
            },
            "type": "mesh3d"
           }
          ],
          "parcoords": [
           {
            "line": {
             "colorbar": {
              "outlinewidth": 0,
              "ticks": ""
             }
            },
            "type": "parcoords"
           }
          ],
          "pie": [
           {
            "automargin": true,
            "type": "pie"
           }
          ],
          "scatter": [
           {
            "fillpattern": {
             "fillmode": "overlay",
             "size": 10,
             "solidity": 0.2
            },
            "type": "scatter"
           }
          ],
          "scatter3d": [
           {
            "line": {
             "colorbar": {
              "outlinewidth": 0,
              "ticks": ""
             }
            },
            "marker": {
             "colorbar": {
              "outlinewidth": 0,
              "ticks": ""
             }
            },
            "type": "scatter3d"
           }
          ],
          "scattercarpet": [
           {
            "marker": {
             "colorbar": {
              "outlinewidth": 0,
              "ticks": ""
             }
            },
            "type": "scattercarpet"
           }
          ],
          "scattergeo": [
           {
            "marker": {
             "colorbar": {
              "outlinewidth": 0,
              "ticks": ""
             }
            },
            "type": "scattergeo"
           }
          ],
          "scattergl": [
           {
            "marker": {
             "colorbar": {
              "outlinewidth": 0,
              "ticks": ""
             }
            },
            "type": "scattergl"
           }
          ],
          "scattermapbox": [
           {
            "marker": {
             "colorbar": {
              "outlinewidth": 0,
              "ticks": ""
             }
            },
            "type": "scattermapbox"
           }
          ],
          "scatterpolar": [
           {
            "marker": {
             "colorbar": {
              "outlinewidth": 0,
              "ticks": ""
             }
            },
            "type": "scatterpolar"
           }
          ],
          "scatterpolargl": [
           {
            "marker": {
             "colorbar": {
              "outlinewidth": 0,
              "ticks": ""
             }
            },
            "type": "scatterpolargl"
           }
          ],
          "scatterternary": [
           {
            "marker": {
             "colorbar": {
              "outlinewidth": 0,
              "ticks": ""
             }
            },
            "type": "scatterternary"
           }
          ],
          "surface": [
           {
            "colorbar": {
             "outlinewidth": 0,
             "ticks": ""
            },
            "colorscale": [
             [
              0,
              "#0d0887"
             ],
             [
              0.1111111111111111,
              "#46039f"
             ],
             [
              0.2222222222222222,
              "#7201a8"
             ],
             [
              0.3333333333333333,
              "#9c179e"
             ],
             [
              0.4444444444444444,
              "#bd3786"
             ],
             [
              0.5555555555555556,
              "#d8576b"
             ],
             [
              0.6666666666666666,
              "#ed7953"
             ],
             [
              0.7777777777777778,
              "#fb9f3a"
             ],
             [
              0.8888888888888888,
              "#fdca26"
             ],
             [
              1,
              "#f0f921"
             ]
            ],
            "type": "surface"
           }
          ],
          "table": [
           {
            "cells": {
             "fill": {
              "color": "#EBF0F8"
             },
             "line": {
              "color": "white"
             }
            },
            "header": {
             "fill": {
              "color": "#C8D4E3"
             },
             "line": {
              "color": "white"
             }
            },
            "type": "table"
           }
          ]
         },
         "layout": {
          "annotationdefaults": {
           "arrowcolor": "#2a3f5f",
           "arrowhead": 0,
           "arrowwidth": 1
          },
          "autotypenumbers": "strict",
          "coloraxis": {
           "colorbar": {
            "outlinewidth": 0,
            "ticks": ""
           }
          },
          "colorscale": {
           "diverging": [
            [
             0,
             "#8e0152"
            ],
            [
             0.1,
             "#c51b7d"
            ],
            [
             0.2,
             "#de77ae"
            ],
            [
             0.3,
             "#f1b6da"
            ],
            [
             0.4,
             "#fde0ef"
            ],
            [
             0.5,
             "#f7f7f7"
            ],
            [
             0.6,
             "#e6f5d0"
            ],
            [
             0.7,
             "#b8e186"
            ],
            [
             0.8,
             "#7fbc41"
            ],
            [
             0.9,
             "#4d9221"
            ],
            [
             1,
             "#276419"
            ]
           ],
           "sequential": [
            [
             0,
             "#0d0887"
            ],
            [
             0.1111111111111111,
             "#46039f"
            ],
            [
             0.2222222222222222,
             "#7201a8"
            ],
            [
             0.3333333333333333,
             "#9c179e"
            ],
            [
             0.4444444444444444,
             "#bd3786"
            ],
            [
             0.5555555555555556,
             "#d8576b"
            ],
            [
             0.6666666666666666,
             "#ed7953"
            ],
            [
             0.7777777777777778,
             "#fb9f3a"
            ],
            [
             0.8888888888888888,
             "#fdca26"
            ],
            [
             1,
             "#f0f921"
            ]
           ],
           "sequentialminus": [
            [
             0,
             "#0d0887"
            ],
            [
             0.1111111111111111,
             "#46039f"
            ],
            [
             0.2222222222222222,
             "#7201a8"
            ],
            [
             0.3333333333333333,
             "#9c179e"
            ],
            [
             0.4444444444444444,
             "#bd3786"
            ],
            [
             0.5555555555555556,
             "#d8576b"
            ],
            [
             0.6666666666666666,
             "#ed7953"
            ],
            [
             0.7777777777777778,
             "#fb9f3a"
            ],
            [
             0.8888888888888888,
             "#fdca26"
            ],
            [
             1,
             "#f0f921"
            ]
           ]
          },
          "colorway": [
           "#636efa",
           "#EF553B",
           "#00cc96",
           "#ab63fa",
           "#FFA15A",
           "#19d3f3",
           "#FF6692",
           "#B6E880",
           "#FF97FF",
           "#FECB52"
          ],
          "font": {
           "color": "#2a3f5f"
          },
          "geo": {
           "bgcolor": "white",
           "lakecolor": "white",
           "landcolor": "#E5ECF6",
           "showlakes": true,
           "showland": true,
           "subunitcolor": "white"
          },
          "hoverlabel": {
           "align": "left"
          },
          "hovermode": "closest",
          "mapbox": {
           "style": "light"
          },
          "paper_bgcolor": "white",
          "plot_bgcolor": "#E5ECF6",
          "polar": {
           "angularaxis": {
            "gridcolor": "white",
            "linecolor": "white",
            "ticks": ""
           },
           "bgcolor": "#E5ECF6",
           "radialaxis": {
            "gridcolor": "white",
            "linecolor": "white",
            "ticks": ""
           }
          },
          "scene": {
           "xaxis": {
            "backgroundcolor": "#E5ECF6",
            "gridcolor": "white",
            "gridwidth": 2,
            "linecolor": "white",
            "showbackground": true,
            "ticks": "",
            "zerolinecolor": "white"
           },
           "yaxis": {
            "backgroundcolor": "#E5ECF6",
            "gridcolor": "white",
            "gridwidth": 2,
            "linecolor": "white",
            "showbackground": true,
            "ticks": "",
            "zerolinecolor": "white"
           },
           "zaxis": {
            "backgroundcolor": "#E5ECF6",
            "gridcolor": "white",
            "gridwidth": 2,
            "linecolor": "white",
            "showbackground": true,
            "ticks": "",
            "zerolinecolor": "white"
           }
          },
          "shapedefaults": {
           "line": {
            "color": "#2a3f5f"
           }
          },
          "ternary": {
           "aaxis": {
            "gridcolor": "white",
            "linecolor": "white",
            "ticks": ""
           },
           "baxis": {
            "gridcolor": "white",
            "linecolor": "white",
            "ticks": ""
           },
           "bgcolor": "#E5ECF6",
           "caxis": {
            "gridcolor": "white",
            "linecolor": "white",
            "ticks": ""
           }
          },
          "title": {
           "x": 0.05
          },
          "xaxis": {
           "automargin": true,
           "gridcolor": "white",
           "linecolor": "white",
           "ticks": "",
           "title": {
            "standoff": 15
           },
           "zerolinecolor": "white",
           "zerolinewidth": 2
          },
          "yaxis": {
           "automargin": true,
           "gridcolor": "white",
           "linecolor": "white",
           "ticks": "",
           "title": {
            "standoff": 15
           },
           "zerolinecolor": "white",
           "zerolinewidth": 2
          }
         }
        },
        "title": {
         "text": "Simulated Global AI in Fashion Market Growth"
        },
        "xaxis": {
         "tickmode": "linear",
         "title": {
          "text": "Year"
         }
        },
        "yaxis": {
         "range": [
          0,
          1.2
         ],
         "title": {
          "text": "Market Size (Billion $)"
         }
        }
       }
      }
     },
     "metadata": {},
     "output_type": "display_data"
    }
   ],
   "source": [
    "import plotly.graph_objs as go\n",
    "import numpy as np\n",
    "\n",
    "# Generating random data for the trend (assuming more years for better visualization)\n",
    "np.random.seed(0)\n",
    "years = np.arange(2020, 2024)\n",
    "market_size = [0.5, 0.6, 0.65, 0.91]  # Market sizes in billion dollars\n",
    "\n",
    "# Adding random noise to make it look like a stock market trend\n",
    "market_size_with_trend = np.array(market_size) + np.random.normal(0, 0.02, len(market_size))\n",
    "\n",
    "# Creating the figure\n",
    "fig = go.Figure()\n",
    "\n",
    "# Adding the line and markers\n",
    "fig.add_trace(go.Scatter(\n",
    "    x=years,\n",
    "    y=market_size_with_trend,\n",
    "    mode='lines+markers',\n",
    "    name='Market Size',\n",
    "    line=dict(color='blue'),\n",
    "    marker=dict(size=10, color='red')\n",
    "))\n",
    "\n",
    "# Adding titles and labels\n",
    "fig.update_layout(\n",
    "    title='Simulated Global AI in Fashion Market Growth',\n",
    "    xaxis_title='Year',\n",
    "    yaxis_title='Market Size (Billion $)',\n",
    "    yaxis=dict(range=[0, 1.2]),  # Setting y-axis limits for better visualization\n",
    "    xaxis=dict(tickmode='linear')\n",
    ")\n",
    "\n",
    "# Adding data labels\n",
    "fig.update_traces(text=[f'${value:.2f}B' for value in market_size_with_trend],\n",
    "                  textposition='top center')\n",
    "\n",
    "# Show the figure\n",
    "fig.show()\n"
   ]
  },
  {
   "cell_type": "code",
   "execution_count": 12,
   "metadata": {},
   "outputs": [],
   "source": [
    "conn = sqlite3.connect('food_allergy.db')\n",
    "cur = conn.cursor()\n",
    "recall = [\n",
    "    ('Interlink Direct Ltd recalls its CG Classic Coconut Candy because of undeclared milk', 'Milk', 'Recalled', 'Possible adverse effects to allergy sufferers'),\n",
    "('Maxela Ltd recalls Rolnik Beer Mustard because it contains undeclared sulphur dioxide', 'Sulphur Dioxide', 'Recalled', 'Possible adverse effects to allergy sufferers'),\n",
    "('Nevis Bakery recalls Empire Biscuits because of undeclared egg', 'Egg', 'Recalled', 'Possible adverse effects to allergy sufferers'),\n",
    "('Sara International Ltd recalls Sara Tahina because of undeclared sesame', 'Sesame', 'Recalled', 'Possible adverse effects to allergy sufferers'),\n",
    "('Halo Top recalls Mint Chip Ice Cream and Chocolate Chip Cookie Dough Ice Cream because of undeclared soya', 'Soya', 'Recalled', 'Possible adverse effects to allergy sufferers'),\n",
    "('Innovative Bites and American Fizz recall Peanut Butter Cookie Dough Bites due to undeclared and incorrect labelling of allergens', 'Various Allergens', 'Recalled', 'Possible adverse effects to allergy sufferers'),\n",
    "('Rude Health Foods Ltd recalls a batch of Rude Health Cacao & Vanilla Granola due to allergen ingredient not declared in English', 'Various Allergens', 'Recalled', 'Possible adverse effects to allergy sufferers'),\n",
    "('Windmill Organics Ltd recalls Biona Organic Spelt Lasagne Sheets because of undeclared wheat', 'Wheat', 'Recalled', 'Possible adverse effects to allergy sufferers'),\n",
    "('Unisnacks recalls Lotte Choco Pie due to undeclared almonds', 'Almonds', 'Recalled', 'Possible adverse effects to allergy sufferers'),\n",
    "('Tesco recalls Hearty Food Company Cottage Pie and Hearty Food Company Sausage and Mash due to undeclared milk', 'Milk', 'Recalled', 'Possible adverse effects to allergy sufferers'),\n",
    "('Runwick Roastery Ltd recalls Cupsmith Truly Magnificent White Hot Chocolate due to undeclared milk', 'Milk', 'Recalled', 'Possible adverse effects to allergy sufferers'),\n",
    "('BOL Foods recalls BOL Caribbean Jerk Curry because of milk and barley', 'Milk and Barley', 'Recalled', 'Possible adverse effects to allergy sufferers'),\n",
    "('Mary Berry’s Salad Dressing recalled due to undeclared egg', 'Egg', 'Recalled', 'Possible adverse effects to allergy sufferers'),\n",
    "('Remeo Gelato recalls Stracciatella Di Bergamo Gelato because of undeclared nuts', 'Nuts', 'Recalled', 'Possible adverse effects to allergy sufferers'),\n",
    "('Yorkshire Game 17 recalls Wild Venison Burgers because of incorrect allergen labelling', 'Various Allergens', 'Recalled', 'Possible adverse effects to allergy sufferers'),\n",
    "('Lidl Ireland recalls Filled Potato Croquettes as milk is not declared in English', 'Milk', 'Recalled', 'Possible adverse effects to allergy sufferers'),\n",
    "('Naturya recalls Organic Chlorella Powder due to undeclared sulphites', 'Sulphites', 'Recalled', 'Possible adverse effects to allergy sufferers'),\n",
    "('Supernutrients recalls Organic Chlorella Powder due to undeclared sulphites', 'Sulphites', 'Recalled', 'Possible adverse effects to allergy sufferers'),\n",
    "('Lidl Ireland recalls Duc de Coeur Macarons as allergens are not declared in English', 'Various Allergens', 'Recalled', 'Possible adverse effects to allergy sufferers'),\n",
    "('Moon Sweets Couture UK Ltd recalls Fizz Wizz Fruit Chews due to undeclared sulphites', 'Sulphites', 'Recalled', 'Possible adverse effects to allergy sufferers'),\n",
    "('Sainsbury’s recalls its Fruit and Honey Seed Mix due to undeclared nuts', 'Nuts', 'Recalled', 'Possible adverse effects to allergy sufferers'),\n",
    "('Mondelez International recalls Ritz Chipster due to undeclared wheat', 'Wheat', 'Recalled', 'Possible adverse effects to allergy sufferers'),\n",
    "('Marks & Spencer recalls M&S Louisiana BBQ Chicken Flatties because of undeclared milk', 'Milk', 'Recalled', 'Possible adverse effects to allergy sufferers'),\n",
    "('Mullaghmore Bakery recalls various scone products because they contain egg which is not declared on the labels', 'Egg', 'Recalled', 'Possible adverse effects to allergy sufferers')\n",
    "]\n",
    "\n",
    "cur.executemany('''\n",
    "INSERT INTO ProductRecalls (ProductName, UndeclaredAllergen, ActionTaken, RiskToConsumers)\n",
    "VALUES (?, ?, ?, ?)\n",
    "''', recalls)\n",
    "\n",
    "# Commit the changes and close the connection\n",
    "conn.commit()"
   ]
  },
  {
   "cell_type": "code",
   "execution_count": 13,
   "metadata": {},
   "outputs": [],
   "source": [
    "recall = [\n",
    "    ('Fruit chutney', 'mustard', 'Recalled', 'Possible adverse effects to allergy sufferers'),\n",
    "('After Dinner Mints', 'milk', 'Withdrawn', 'Possible adverse effects to allergy sufferers'),\n",
    "('Chicken breasts with spicy sauce', 'milk and wheat', 'Recalled', 'Possible adverse effects to allergy sufferers'),\n",
    "('Pickling spice', 'mustard seeds', 'Recalled', 'Possible adverse effects to allergy sufferers'),\n",
    "('Bread crumbs', 'Not listed', 'Withdrawn', 'Possible adverse effects to allergy sufferers'),\n",
    "('Bottles of Port and Madeira', 'sulphur dioxide', 'Withdrawn', 'Possible adverse effects to allergy sufferers'),\n",
    "('Barbecue flavour corn snack', 'milk and soya', 'Withdrawn', 'Possible adverse effects to allergy sufferers'),\n",
    "('Bottles of IPA beer', 'milk', 'Withdrawn', 'Possible adverse effects to allergy sufferers'),\n",
    "('Chocolate Meringues', 'soya', 'Recalled', 'Possible adverse effects to allergy sufferers'),\n",
    "('Seeded bread products', 'sesame seeds', 'Recalled', 'Possible adverse effects to allergy sufferers'),\n",
    "('Various bread products', 'sesame seeds', 'Recalled', 'Possible adverse effects to allergy sufferers'),\n",
    "('Cakes', 'milk', 'Recalled', 'Possible adverse effects to allergy sufferers'),\n",
    "('Chocolate and Beetroot Cake', 'walnuts', 'Withdrawn', 'Possible adverse effects to allergy sufferers'),\n",
    "('Swiss Rolls', 'milk', 'Recalled', 'Possible adverse effects to allergy sufferers'),\n",
    "('Energy Bar Superberry', 'barley, soya and milk', 'Recalled', 'Possible adverse effects to allergy sufferers'),\n",
    "('Chocolate Chip Cookies', 'milk', 'Recalled', 'Possible adverse effects to allergy sufferers'),\n",
    "('Chocolate Chip Cookies', 'milk', 'Recalled', 'Possible adverse effects to allergy sufferers'),\n",
    "('Horseradish sauce', 'sulphur dioxide', 'Recalled', 'Possible adverse effects to allergy sufferers'),\n",
    "('Horseradish sauce', 'sulphur dioxide', 'Recalled', 'Possible adverse effects to allergy sufferers'),\n",
    "('Apple and Port Cheese', 'mustard and sulphites', 'Recalled', 'Possible adverse effects to allergy sufferers'),\n",
    "('Easter Butterfly Cakes', 'cow’s milk', 'Recalled', 'Possible adverse effects to allergy sufferers'),\n",
    "('Basted Turkey Breast Joint', 'sulphur dioxide', 'Recalled', 'Possible adverse effects to allergy sufferers'),\n",
    "('Chips (crisps) Barbecue flavour', 'milk', 'Recalled', 'Possible adverse effects to allergy sufferers')\n",
    "]\n",
    "\n",
    "cur.executemany('''\n",
    "INSERT INTO ProductRecalls (ProductName, UndeclaredAllergen, ActionTaken, RiskToConsumers)\n",
    "VALUES (?, ?, ?, ?)\n",
    "''', recalls)\n",
    "\n",
    "# Commit the changes and close the connection\n",
    "conn.commit()"
   ]
  },
  {
   "cell_type": "code",
   "execution_count": 14,
   "metadata": {},
   "outputs": [],
   "source": [
    "recall = [\n",
    "    ('Egg Mayonnaise Sandwich', 'egg and mustard', 'Recalled', 'Possible adverse effects to allergy sufferers'),\n",
    "('Corn Chips', 'soya and wheat (gluten)', 'Recalled', 'Possible adverse effects to allergy sufferers'),\n",
    "('Bakery cakes', 'egg', 'Recalled', 'Possible adverse effects to allergy sufferers'),\n",
    "('Assorted Cupcakes', 'allergen', 'Recalled', 'Possible adverse effects to allergy sufferers'),\n",
    "('Butter Chicken', 'nuts', 'Recalled', 'Possible adverse effects to allergy sufferers'),\n",
    "('Cacao Nibs Cashew Butter', 'misleading allergen labelling', 'Recalled', 'Possible adverse effects to allergy sufferers'),\n",
    "('10 Pack Biscuits', 'incorrect allergen labelling', 'Recalled', 'Possible adverse effects to allergy sufferers'),\n",
    "('Spiced Chicken Soup', 'allergen', 'Recalled', 'Possible adverse effects to allergy sufferers'),\n",
    "('Southern Fried Chicken Wrap', 'incorrect allergen labelling', 'Recalled', 'Possible adverse effects to allergy sufferers'),\n",
    "('Southern Fried Chicken Wrap', 'incorrect allergen labelling', 'Recalled', 'Possible adverse effects to allergy sufferers'),\n",
    "('Pasta Bolognese', 'incorrect allergen labelling', 'Recalled', 'Possible adverse effects to allergy sufferers'),\n",
    "('Ham', 'milk and wheat', 'Recalled', 'Possible adverse effects to allergy sufferers'),\n",
    "('Chocolate Crème Biscuits', 'incorrect allergen labelling', 'Recalled', 'Possible adverse effects to allergy sufferers'),\n",
    "('Natural Bitter Almond Extract', 'nuts', 'Recalled', 'Possible adverse effects to allergy sufferers'),\n",
    "('Chocolate bar', 'egg', 'Recalled', 'Possible adverse effects to allergy sufferers'),\n",
    "('Frozen 2 Breaded Haddock Fillets', 'incorrect allergen labelling', 'Recalled', 'Possible adverse effects to allergy sufferers'),\n",
    "('Almond Extract', 'nuts', 'Recalled', 'Possible adverse effects to allergy sufferers'),\n",
    "('Whey Protein', 'milk', 'Recalled', 'Possible adverse effects to allergy sufferers'),\n",
    "('Spaghetti Bolognese (frozen)', 'egg', 'Recalled', 'Possible adverse effects to allergy sufferers'),\n",
    "('Two varieties of chocolate bars', 'egg', 'Recalled', 'Possible adverse effects to allergy sufferers'),\n",
    "('Sandwich products', 'allergens', 'Recalled', 'Possible adverse effects to allergy sufferers'),\n",
    "('Two varieties of chocolate bars', 'egg', 'Recalled', 'Possible adverse effects to allergy sufferers'),\n",
    "('Two Easter chocolate eggs products', 'barley', 'Recalled', 'Possible adverse effects to allergy sufferers'),\n",
    "('Chicken Chow Mein', 'allergens', 'Recalled', 'Possible adverse effects to allergy sufferers'),\n",
    "('Supplement Tablets', 'lactose', 'Recalled', 'Possible adverse effects to allergy sufferers'),\n",
    "('Assorted pastries and cupcakes', 'milk', 'Recalled', 'Possible adverse effects to allergy sufferers'),\n",
    "('Bakery products', 'milk', 'Recalled', 'Possible adverse effects to allergy sufferers'),\n",
    "('Vegetarian sushi', 'allergens', 'Recalled', 'Possible adverse effects to allergy sufferers'),\n",
    "('Chocolate Easter egg', 'milk', 'Recalled', 'Possible adverse effects to allergy sufferers')\n",
    "]\n",
    "\n",
    "cur.executemany('''\n",
    "INSERT INTO ProductRecalls (ProductName, UndeclaredAllergen, ActionTaken, RiskToConsumers)\n",
    "VALUES (?, ?, ?, ?)\n",
    "''', recalls)\n",
    "\n",
    "# Commit the changes and close the connection\n",
    "conn.commit()"
   ]
  },
  {
   "cell_type": "code",
   "execution_count": 15,
   "metadata": {},
   "outputs": [],
   "source": [
    "recall = [\n",
    "    ('Tesco?s finest chocolate cake', 'nuts (walnuts)', 'Recalled', 'Possible adverse effects to allergy sufferers'),\n",
    "('Kam Yuen Crab Roe Flavour Sunflower Seeds', 'peanut', 'Recalled', 'Possible adverse effects to allergy sufferers'),\n",
    "('Eat Smart COUNTED Honey & Mustard Dressing', 'egg and mustard', 'Recalled', 'Possible adverse effects to allergy sufferers'),\n",
    "('2 Gluten Free Scotch Eggs', 'gluten', 'Recalled', 'Possible adverse effects to allergy sufferers'),\n",
    "('Wikinger Hot Dogs', 'incorrect allergen labelling', 'Recalled', 'Possible adverse effects to allergy sufferers'),\n",
    "('Natural Days Ground Rice Flour', 'milk', 'Recalled', 'Possible adverse effects to allergy sufferers'),\n",
    "('Delicious Pineapple and Berry Compote', 'milk', 'Recalled', 'Possible adverse effects to allergy sufferers'),\n",
    "('Glucosamine Tablets and Omega Choice 3-6-9 capsules', 'incorrect allergen labelling', 'Recalled', 'Possible adverse effects to allergy sufferers'),\n",
    "('Gluten Free Amaizin Organic Corn products', 'gluten', 'Recalled', 'Possible adverse effects to allergy sufferers'),\n",
    "('Country Kitchen Coleslaw & Potato Salad Twin-Pack', 'milk', 'Recalled', 'Possible adverse effects to allergy sufferers'),\n",
    "('Italian Penne Bolognese Bake 400g', 'celery', 'Recalled', 'Possible adverse effects to allergy sufferers'),\n",
    "('Laila Mint Sauce', 'egg', 'Recalled', 'Possible adverse effects to allergy sufferers'),\n",
    "('dairy free coconut milk yogurt products', 'milk', 'Recalled', 'Possible adverse effects to allergy sufferers'),\n",
    "('Trafo tortilla chips', 'gluten', 'Recalled', 'Possible adverse effects to allergy sufferers'),\n",
    "('Favorina Dip Eggs', 'allergenic ingredients not declared in English', 'Recalled', 'Possible adverse effects to allergy sufferers'),\n",
    "('Handmade Loukoumi 200g', 'pistachio', 'Recalled', 'Possible adverse effects to allergy sufferers'),\n",
    "('Grafschafter Garlic Baguettes and Herb Baguettes', 'allergenic ingredients not declared in English', 'Recalled', 'Possible adverse effects to allergy sufferers'),\n",
    "('The Spice Tailor Fiery Goan Curry', 'mustard', 'Recalled', 'Possible adverse effects to allergy sufferers'),\n",
    "('various Detox Drinks and Food Supplements', 'undeclared allergens', 'Recalled', 'Possible adverse effects to allergy sufferers'),\n",
    "('sausage products', 'sulphur dioxide', 'Recalled', 'Possible adverse effects to allergy sufferers'),\n",
    "('Turkish Delight ? Rose and Lemon Flavours', 'nuts', 'Recalled', 'Possible adverse effects to allergy sufferers'),\n",
    "('Mr. Dips Taramasalata', 'soya', 'Recalled', 'Possible adverse effects to allergy sufferers'),\n",
    "('Robertsons Rajah Curry Powder', 'celery and mustard', 'Recalled', 'Possible adverse effects to allergy sufferers'),\n",
    "('Breaded Cod Fillets', 'undeclared allergens', 'Recalled', 'Possible adverse effects to allergy sufferers'),\n",
    "('CEBU Dried Mangoes', 'sulphur dioxide and/or sulphites', 'Recalled', 'Possible adverse effects to allergy sufferers'),\n",
    "('Deluxe Wild Salmon', 'allergenic ingredients not declared in English', 'Recalled', 'Possible adverse effects to allergy sufferers'),\n",
    "('Aunt Bessie?s Croquettes', 'egg', 'Recalled', 'Possible adverse effects to allergy sufferers')\n",
    "]\n",
    "cur.executemany('''\n",
    "INSERT INTO ProductRecalls (ProductName, UndeclaredAllergen, ActionTaken, RiskToConsumers)\n",
    "VALUES (?, ?, ?, ?)\n",
    "''', recalls)\n",
    "\n",
    "# Commit the changes and close the connection\n",
    "conn.commit()\n"
   ]
  },
  {
   "cell_type": "code",
   "execution_count": 16,
   "metadata": {},
   "outputs": [],
   "source": [
    "recall = [\n",
    "    ('Waitrose Chinese 6 Vegetable Spring Rolls', 'sesame', 'Recalled', 'This product contains sesame making it a possible health risk for anyone with an allergy to sesame'),\n",
    "('Sogud Ltd various gluten-free flapjack products', 'gluten', 'Recalled', 'Cereals containing gluten. This product contains gluten making it a possible health risk for anyone with an allergy or intolerance to gluten'),\n",
    "('Lidl McEnnedy Supersize Peanut Flips and Sondey Organic Biscuits Assorted', 'Peanuts, Oats (gluten), Sesame, Milk and Nuts', 'Recalled', 'These products contain peanuts, oats (gluten), sesame, milk and nuts making them a possible health risk for anyone with an allergy or intolerance to oats or gluten, an allergy or intolerance to milk or milk constituents, an allergy to peanuts, nuts or and an allergy to sesame'),\n",
    "('Belfield Ice King Strawberry Cones', 'peanuts', 'Recalled', 'Peanuts. This product contains peanuts making it a possible health risk for anyone with an allergy to peanuts'),\n",
    "('Cook Trading Ltd Cook Sticky Soy & Ginger Beef pots', 'Eggs and wheat (gluten)', 'Recalled', 'Eggs and wheat (gluten). This product contains eggs and wheat (gluten) making it a possible health risk for anyone with an allergy or intolerance to egg, wheat or gluten'),\n",
    "('Irving\\'s Homestyle Bakery Chocolate Crispy', 'wheat (gluten)', 'Recalled', 'Wheat (gluten). These products contain wheat (gluten) making them a possible health risk for anyone with an allergy or intolerance to wheat or gluten'),\n",
    "('Evolution Foods three products', 'sulphites', 'Recalled', 'Sulphites. These products contain sulphites, making them a possible health risk for anyone with a sensitivity to sulphur dioxide and/or sulphites'),\n",
    "('Sainsbury?s Deliciously Free From Garlic Pizza Bread', 'milk', 'Recalled', 'Milk. This product contains milk, making it a possible health risk for anyone with an allergy or intolerance to milk or milk constituents'),\n",
    "('Jumbo UK Ghana Taste Tom Brown Millet Based Porridge', 'peanuts', 'Recalled', 'Peanuts. This product contains peanut making it a possible health risk for anyone with an allergy to peanuts'),\n",
    "('The Village Bakery Markethill various own-branded bakery products', 'Sesame, celery, milk or milk constituents, wheat (gluten), oats (gluten) or barley (gluten)', 'Recalled', 'These products may contain sesame, celery, milk or milk constituents, wheat (gluten), oats (gluten) or barley (gluten) making them a possible health risk for anyone with an allergy to sesame or celery or an allergy or intolerance to milk or milk constituents, wheat (gluten), oats (gluten) or barley (gluten)'),\n",
    "('Rayan Patisserie Assorted Baklawah', 'milk and wheat (gluten)', 'Recalled', 'This product contains milk and wheat (gluten) making it a possible health risk for anyone with an allergy or intolerance milk or milk constituents and/or to wheat or gluten'),\n",
    "('Real Handful Choc Orange Chase Protein Bar', 'sesame', 'Recalled', 'This product may contain sesame, making it a possible health risk for anyone with an allergy to sesame'),\n",
    "('Bean & Pod Dark Chocolate Honeycomb Dairy Free', 'milk', 'Recalled', 'Milk. This product contains milk making it a possible health risk for anyone with an allergy or intolerance to milk or milk constituents'),\n",
    "('Mr Dips Cyprus Jasmine Tzatziki and Cyprus Jasmine Taramasalata', 'milk, soya, barley (gluten), oats (gluten), rye (gluten) and wheat (gluten)', 'Recalled', 'Cyprus Jasmine Tzatziki contains milk, making it a possible health risk for anyone with an allergy or intolerance to milk or milk constituents. Cyprus Jasmine Taramasalata contains soya and may contain barley (gluten), oats (gluten), rye (gluten) and wheat (gluten) making it a possible health risk for anyone with an allergy to soya and/or an allergy or intolerance to barley, gluten, oats, rye or wheat'),\n",
    "('Lidl Mister Choc Choco & Caramel Bars', 'Peanuts', 'Recalled', 'This product contains peanuts making it a possible health risk for anyone with an allergy to peanuts'),\n",
    "('Speedibake Takeaway Garlic Slices', 'milk', 'Recalled', 'Milk. This product contains milk making it a possible health risk for anyone with an allergy or intolerance to milk or milk constituents'),\n",
    "('Sainsbury?s Mango Sorbet by Sainsbury?s', 'milk', 'Recalled', 'Milk. This product contains traces of milk making it a possible health risk for anyone with an allergy or intolerance to milk or milk constituents'),\n",
    "('Lidl Sondey Orange Jaffa Cakes and Sondey Jaffa Minis', 'milk', 'Recalled', 'Milk. These products contain milk making it a possible health risk for anyone with an allergy or intolerance to milk or milk constituents'),\n",
    "('Everest Ices four Ice Cream and Kulfi products', 'almonds', 'Recalled', 'Nuts. These products contain almonds making it a possible health risk for anyone with an allergy to nuts'),\n",
    "('Sounas Tandoori Masala Naan and Naan Breads Tandoori Masala', 'celery', 'Recalled', 'Celery. These products may contain celery making them a possible health risk for anyone with an allergy to celery'),\n",
    "('Waitrose Cooks Ingredients Dark Chocolate Chips and Cooks Ingredients Dark Chocolate Chunks', 'milk', 'Recalled', 'These products may contain milk or milk constituents making them a possible health risk for anyone with an allergy or intolerance to milk or milk constituents'),\n",
    "('Asda Sweet Potato & Red Chilli Soup', 'mustard', 'Recalled', 'Mustard. This product contains mustard making it a possible health risk for anyone with an allergy to mustard'),\n",
    "('Co-op five soup products', 'mustard', 'Recalled', 'Mustard. These products contain mustard making them a possible health risk for anyone with an allergy to mustard'),\n",
    "('Food Innovations UK Create a Cake Home Bake Dark Chocolate Chips', 'milk', 'Recalled', 'This product contains milk or milk constituents making it a possible health risk for anyone with an allergy or intolerance to milk or milk constituents'),\n",
    "('Boots Shapers Teriyaki Houmous Chips', 'mustard', 'Recalled', 'Mustard. This product contains mustard making it a possible health risk for anyone with an allergy to mustard'),\n",
    "('Morrisons two Chinese Takeaway products', 'milk', 'Recalled', 'Milk. These products contain milk making them a possible health risk for anyone with an allergy or intolerance to milk or milk constituents'),\n",
    "('Graze Sea Salt & Vinegar Veg Crunchers', 'milk', 'Recalled', 'Milk. This product contains milk making it a possible health risk for anyone with an allergy or intolerance to milk or milk constituents'),\n",
    "('Lidl Mister Choc Filled Chocolate Fingers Hazelnut Crisp', 'barley (gluten), wheat (gluten), milk, nuts and soya', 'Recalled', 'This product contains barley (gluten), wheat (gluten), milk, nuts and soya making it a possible health risk for anyone with an allergy or intolerance to barley, gluten, wheat, milk or milk constituents and/or an allergy to nuts and/or soya'),\n",
    "('Premier Foods Hovis Granary Bread Flour', 'barley', 'Recalled', 'Barley (gluten). This product contains malted barley flour (gluten) making it a possible health risk for anyone with an allergy or intolerance to barley (gluten)'),\n",
    "('Asda Garlic and Parsley Butter', 'peanut', 'Recalled', 'Peanuts. This product may contain very low level of peanut making it a possible health risk for anyone with an allergy to peanuts'),\n",
    "('Lewis Pies Ltd Traditional Pasty', 'milk', 'Recalled', 'Milk. This product contains milk, making it a possible health risk for anyone with an allergy or intolerance to milk or milk constituents'),\n",
    "('Clive?s Pies Clive?s Cake Organic Chocolate Brownie', 'milk', 'Recalled', 'Milk. This product may contain milk making it a possible health risk for anyone with an allergy or intolerance to milk or milk constituents'),\n",
    "('Caf? Class various sandwiches and bakery products', 'Mustard, sesame, eggs and milk', 'Recalled', 'Mustard, sesame, eggs and milk. These products may contain mustard and/or sesame and/or eggs and/or milk, making them a possible health risk for anyone with an allergy to mustard and/or sesame, and/or an allergy or intolerance to egg and/or milk or milk constituents'),\n",
    "('London Fields Brewery Hackney Hopster Beer', 'Wheat, Oats and Gluten', 'Recalled', 'Wheat, Oats and Gluten. This product contains wheat (gluten), oats (gluten) making it a possible health risk for anyone with an allergy or intolerance to oats, wheat or gluten')\n",
    "\n",
    "]\n",
    "\n",
    "cur.executemany('''\n",
    "INSERT INTO ProductRecalls (ProductName, UndeclaredAllergen, ActionTaken, RiskToConsumers)\n",
    "VALUES (?, ?, ?, ?)\n",
    "''', recalls)\n",
    "\n",
    "# Commit the changes and close the connection\n",
    "conn.commit()"
   ]
  },
  {
   "cell_type": "code",
   "execution_count": 17,
   "metadata": {},
   "outputs": [],
   "source": [
    "recall = [\n",
    "    ('Protein shakes, Protein Bars and Whey Tubs', 'soya and/or egg', 'Recalled', 'Possible adverse effects to allergy sufferers.'),\n",
    "('Ice Lollies', 'milk', 'Recalled', 'Possible adverse effects to allergy sufferers.'),\n",
    "('Vegetable microwaveable rice', 'egg', 'Recalled', 'Possible adverse effects to allergy sufferers.'),\n",
    "('Protein Shot and Protein Active Energy Shot', 'egg', 'Recalled', 'Possible adverse effects to allergy sufferers.'),\n",
    "('Cheese Sandwich', 'egg and mustard', 'Recalled', 'Possible adverse effects to allergy sufferers.'),\n",
    "('Mini Rocky Road Bites', 'egg', 'Recalled', 'Possible adverse effects to allergy sufferers.'),\n",
    "('Teriyaki Crackers', 'prawns', 'Recalled', 'Possible adverse effects to allergy sufferers.'),\n",
    "('Various types of Pickled Fruits and Walnuts for Cheese', 'mustard', 'Recalled', 'Possible adverse effects to allergy sufferers.'),\n",
    "('Whey and Protein shakes', 'soya and gluten', 'Recalled', 'Possible adverse effects to allergy sufferers.'),\n",
    "('Syrup Sponge Puddings', 'milk', 'Recalled', 'Possible adverse effects to allergy sufferers.'),\n",
    "('Salted Rice Cakes', 'sesame', 'Recalled', 'Possible adverse effects to allergy sufferers.'),\n",
    "('Various chocolate bars', 'hazelnut and/or almond', 'Recalled', 'Possible adverse effects to allergy sufferers.'),\n",
    "('Fruit Yoghurt', 'milk', 'Recalled', 'Possible adverse effects to allergy sufferers.'),\n",
    "('Peanuts', 'peanuts', 'Recalled', 'Possible adverse effects to allergy sufferers.'),\n",
    "('Cheese and Tomato Pasta', 'mustard', 'Recalled', 'Possible adverse effects to allergy sufferers.'),\n",
    "('Peanuts and Raisins', 'almonds, Brazil nuts and pistachio nuts', 'Recalled', 'Possible adverse effects to allergy sufferers.'),\n",
    "('Roasted Millet Snack Bar', 'peanut', 'Recalled', 'Possible adverse effects to allergy sufferers.'),\n",
    "('Egg Salad Sandwich', 'milk', 'Recalled', 'Possible adverse effects to allergy sufferers.'),\n",
    "('Peanuts', 'peanuts', 'Recalled', 'Possible adverse effects to allergy sufferers.'),\n",
    "('Roasted Millet Snack Bar', 'peanut', 'Recalled', 'Possible adverse effects to allergy sufferers.'),\n",
    "('All Purpose Seasoning', 'mustard and celery', 'Recalled', 'Possible adverse effects to allergy sufferers.'),\n",
    "('Orange & Milk Chocolate Cookies 150g', 'hazelnut', 'Recalled', 'Possible adverse effects to allergy sufferers.'),\n",
    "('Raisin Milk Chocolate 200g', 'hazelnut and almond', 'Recalled', 'Possible adverse effects to allergy sufferers.'),\n",
    "('Multigrain Loaf', 'allergenic ingredients', 'Recalled', 'Possible adverse effects to allergy sufferers.'),\n",
    "('All Purpose Seasoning', 'mustard and celery', 'Recalled', 'Possible adverse effects to allergy sufferers.'),\n",
    "('Various types of Muesli', 'incorrect allergens information', 'Recalled', 'Possible adverse effects to allergy sufferers.'),\n",
    "('Tomato & Oregano Gluten-Free Crackers', 'gluten', 'Recalled', 'Possible adverse effects to allergy sufferers.'),\n",
    "('Meat Free Soups', 'egg', 'Recalled', 'Possible adverse effects to allergy sufferers.'),\n",
    "('2 Sea Bass Fillets with Lemongrass, Lime & Chilli Butter', 'mustard', 'Recalled', 'Possible adverse effects to allergy sufferers.'),\n",
    "('Peanuts & Raisins', 'almonds, brazil nuts, cashews, and walnuts', 'Recalled', 'Possible adverse effects to allergy sufferers.')\n",
    "\n",
    "]\n",
    "\n",
    "cur.executemany('''\n",
    "INSERT INTO ProductRecalls (ProductName, UndeclaredAllergen, ActionTaken, RiskToConsumers)\n",
    "VALUES (?, ?, ?, ?)\n",
    "''', recalls)\n",
    "\n",
    "# Commit the changes and close the connection\n",
    "conn.commit()"
   ]
  },
  {
   "cell_type": "code",
   "execution_count": 18,
   "metadata": {},
   "outputs": [],
   "source": [
    "recall = [\n",
    "    ('Birthday Cake Cookie Dough Bites', 'Incorrect allergen labelling', 'Recalled', 'Possible adverse effects to allergy sufferers.'),\n",
    "('8 Belgian White Chocolate Chunk All Butter Cookies', 'Hazelnut', 'Recalled', 'Possible adverse effects to allergy sufferers.'),\n",
    "('Chocolate Mint Protein Bar', 'Peanuts, nuts and incorrect allergen labelling', 'Recalled', 'Possible adverse effects to allergy sufferers.'),\n",
    "('Deli Peppered Ham & Egg Sandwiches', 'Soya and sulphites', 'Recalled', 'Possible adverse effects to allergy sufferers.'),\n",
    "('Tortilla chips', 'Milk', 'Recalled', 'Possible adverse effects to allergy sufferers.'),\n",
    "('Fruit Teacakes', 'Incorrect allergen labelling', 'Recalled', 'Possible adverse effects to allergy sufferers.'),\n",
    "('Food business Operater recalls four of its products', 'Mustard and gluten', 'Recalled', 'Possible adverse effects to allergy sufferers.'),\n",
    "('Cooking Sauce', 'Egg', 'Recalled', 'Possible adverse effects to allergy sufferers.'),\n",
    "('Three products', 'Undeclared allergens (Northern Ireland only)', 'Recalled', 'Possible adverse effects to allergy sufferers.'),\n",
    "('Beef Sausages and Beef Pickled Briskets', 'Undeclared allergens', 'Recalled', 'Possible adverse effects to allergy sufferers.'),\n",
    "('Fish Pie 800g', 'Mustard', 'Recalled', 'Possible adverse effects to allergy sufferers.'),\n",
    "('Milk Chocolate Raisins 150g', 'Peanuts', 'Recalled', 'Possible adverse effects to allergy sufferers.'),\n",
    "('Cookie & Cream Biscuits', 'Milk', 'Recalled', 'Possible adverse effects to allergy sufferers.'),\n",
    "('Super Seeds Breakfast Apricot & Strawberry Bar', 'Peanuts', 'Recalled', 'Possible adverse effects to allergy sufferers.'),\n",
    "('Marshmallow beer', 'Lactose', 'Recalled', 'Possible adverse effects to allergy sufferers.'),\n",
    "('IPA', 'Lactose', 'Recalled', 'Possible adverse effects to allergy sufferers.'),\n",
    "('Homemade Stuffing', 'Milk (Northern Ireland only)', 'Recalled', 'Possible adverse effects to allergy sufferers.'),\n",
    "('Punjabi Wadi', 'Gluten and soya', 'Recalled', 'Possible adverse effects to allergy sufferers.')\n",
    "]\n",
    "\n",
    "cur.executemany('''\n",
    "INSERT INTO ProductRecalls (ProductName, UndeclaredAllergen, ActionTaken, RiskToConsumers)\n",
    "VALUES (?, ?, ?, ?)\n",
    "''', recalls)\n",
    "\n",
    "# Commit the changes and close the connection\n",
    "conn.commit()"
   ]
  },
  {
   "cell_type": "code",
   "execution_count": 21,
   "metadata": {},
   "outputs": [],
   "source": [
    "recall = [\n",
    "    ('Nutrisport Ltd recalls various Nutrisport and Atlas protein products', 'Milk', 'Recalled', 'This product contains milk making it a possible health risk for anyone with an allergy or intolerance to milk or milk constituents.'),\n",
    "('Quorn recalls a batch of its 2 Gluten Free Burgers packs', 'Gluten', 'Recalled', 'This product contains gluten making it a possible health risk for anyone with an allergy or intolerance to gluten.'),\n",
    "('Bradbury & Son (Buxton) recalls Lo-Col', 'Milk', 'Recalled', 'This product contains milk making it a possible health risk for anyone with an allergy or intolerance to milk or milk constituents'),\n",
    "('Asco Foods Ltd recalls Dee Thai Crispy Rolls – Durian Flavour', 'Sesame', 'Recalled', 'This product contains sesame making it a possible health risk for anyone with an allergy to sesame.'),\n",
    "('Sainsburys recalls by Sainsbury Coconut & Yogurt filled Breakfast Biscuits and by Sainsburys Cocoa filled Breakfast Biscuits', 'Sesame', 'Recalled', 'These products contain sesame making them a possible health risk for anyone with an allergy to sesame.'),\n",
    "('Bradbury & Son (Buxton) recalls Lo-Col (Updated)', 'Milk', 'Recalled', 'This product contains milk making it a possible health risk for anyone with an allergy or intolerance to milk or milk constituents'),\n",
    "('Co-op recalls its Hoisin Chicken Noodle Box', 'Milk', 'Recalled', 'These products contain milk making them a possible health risk for anyone with an allergy or intolerance to milk or milk constituents.'),\n",
    "('Lidl Ireland recalls McEnnedy Peanut Flavoured Supersize Flips', 'Peanuts, nuts, gluten', 'Recalled', 'This product contains peanuts and may contain traces of nuts and gluten making it a possible health risk for anyone with an allergy to peanuts and/or nuts and/or an allergy or intolerance to gluten'),\n",
    "('Star Distribution (UK) Ltd recalls its Cake Zone Muffins 4 pack Chunky Cherry and Double Chocolate Flavour', 'Egg, milk, wheat (gluten)', 'Recalled', 'This product contains egg, milk and wheat (gluten) making it a possible health risk for anyone with an allergy or intolerance to wheat or gluten, egg and/or milk or milk constituents.'),\n",
    "('E H Booths recalls sandwiches', 'Rye and oats', 'Recalled', 'This product contains rye and oats making it a possible health risk for anyone with an allergy to rye or oats.'),\n",
    "('Clayton Park Bakery recalls various bakery products', 'Barley', 'Recalled', 'The products contain barley making them a possible health risk for anyone with an allergy or intolerance to barley or gluten.'),\n",
    "('James Hall & Co recalls take-away sandwich rolls', 'Barley', 'Recalled', 'The products contain barley making them a possible health risk for anyone with an allergy or intolerance to barley or gluten.'),\n",
    "('Clayton Park Bakery recalls various bakery products (Update)', 'Barley', 'Recalled', 'The products contain barley making them a possible health risk for anyone with an allergy or intolerance to barley or gluten.'),\n",
    "('Lidl Ireland recalls Harvest Basket Potato Croquettes', 'Wheat (gluten), egg', 'Recalled', 'This product contains wheat (gluten) and egg making it a possible health risk for anyone with an allergy or intolerance to egg, wheat or gluten.'),\n",
    "('Crosse & Blackwell recalls its Green Vegetable & Kale Soup', 'Milk', 'Recalled', 'This product contains milk making it a possible health risk for anyone with an allergy or intolerance to milk or milk constituents.'),\n",
    "('Fazila Foods Limited recalls two types of kebab rolls', 'Milk, sulphites', 'Recalled', 'These products contain milk and sulphites, making them a possible health risk for anyone with an allergy or intolerance to milk or milk constituents, and/or a sensitivity to sulphur dioxide and/or sulphites.'),\n",
    "('Sainsburys recalls in store bakery all butter croissant', 'Almonds', 'Recalled', 'This product contains nuts making it a possible health risk for anyone with an allergy to nuts.'),\n",
    "('Creme Or recalls assorted chocolates', 'Natural pistachio flavouring', 'Recalled', 'These products may contain pistachio making them a possible health risk for anyone with an allergy to nuts (pistachios).'),\n",
    "('N J Marketing Ltd recalls Lemon Bonbons', 'Soya & milk', 'Recalled', 'This product contains soya & milk making it a possible health risk for anyone with an allergy to soya and an allergy or intolerance to milk or milk constituents.')\n",
    "]\n",
    "cur.executemany('''\n",
    "INSERT INTO ProductRecalls (ProductName, UndeclaredAllergen, ActionTaken, RiskToConsumers)\n",
    "VALUES (?, ?, ?, ?)\n",
    "''', recalls)\n",
    "\n",
    "# Commit the changes and close the connection\n",
    "conn.commit()"
   ]
  },
  {
   "cell_type": "code",
   "execution_count": 22,
   "metadata": {},
   "outputs": [],
   "source": [
    "recall = [\n",
    "    ('P&B Foods recalls Heera Premium Quality Golden Sultanas', 'Sulphites', 'Recalled', 'These products contain sulphites, making them a possible health risk for anyone with a sensitivity to sulphur dioxide and/or sulphites.'),\n",
    "('Co-op recalls Veg Taster', 'Fish', 'Recalled', 'This product contains fish making it a possible health risk for anyone with an allergy to fish.'),\n",
    "('Windmill Organics recalls organic amisa lactose free rice milk chocolate rice cakes', 'Milk', 'Recalled', 'This product contains milk making it a possible health risk for anyone with an allergy or intolerance to milk or milk constituents.'),\n",
    "('Leonidas boxed assortment of Belgian Chocolates', 'Sesame and nuts', 'Recalled', 'These products may contain sesame and/or nuts, making them a possible health risk for anyone with an allergy to sesame and/or nuts.'),\n",
    "('Tan Y Castell recalls its Chocolate Chip Griddles', 'Milk', 'Recalled', 'This product may contain milk making it a possible health risk for anyone with an allergy or intolerance to milk or milk constituents.'),\n",
    "('Flames Foods recalls various frozen products', 'egg, milk, mustard, nuts (almond), sesame, soya, sulphites, and wheat (gluten)', 'Recalled', 'These products contain egg, milk, mustard, nuts (almond), sesame, soya, sulphites, and wheat (gluten), making them a possible health risk for anyone with allergy and/or intolerance to these substances.'),\n",
    "('AB World Foods recalls Blue Dragon Street Food Satay Skewers Kit', 'Mustard', 'Recalled', 'This product contains mustard making it a possible health risk for anyone with an allergy to mustard.'),\n",
    "('itsu (grocery) recalls itsu veg gyoza', 'Crustaceans', 'Recalled', 'This product may contain prawns making it a possible health risk for anyone with an allergy to crustaceans.'),\n",
    "('COOK Trading recalls Green Thai Chicken Curry', 'Milk', 'Recalled', 'This product contains milk making it a possible health risk for anyone with an allergy or intolerance to milk or milk constituents.'),\n",
    "('Lidl GB recalls SPEEDFEAST Quarter Pounder with Cheese', 'Egg, milk and sesame', 'Recalled', 'This product contains egg, milk and sesame making it a possible health risk for anyone with an allergy or intolerance to egg and/or milk or milk constituents and/or an allergy to sesame.'),\n",
    "('Sainsbury’s recalls Deliciously Free From 4 Fruity Hot Cross Buns by Sainsbury’s', 'Soya', 'Recalled', 'This product contains soya, making it a possible health risk for anyone with an allergy to soya.'),\n",
    "('Waitrose recalls Waitrose Sweet Potato & Coconut Soup and Waitrose Roasted Tomato, Bean & Quinoa Soup', 'Soya', 'Recalled', 'These products contain soya making it a possible health risk for anyone with an allergy to soya.'),\n",
    "('Thomas Tucker recalls various Morrisons Popcorn products', 'Milk', 'Recalled', 'These products may contain milk making them a possible health risk for anyone with an allergy or intolerance to milk or milk constituents.'),\n",
    "('Naturli’ Foods recalls Naturli’ Organic Vegan Spreadable', 'Milk', 'Recalled', 'This product may contain milk making it a possible health risk for anyone with an allergy or intolerance to milk or milk constituents.'),\n",
    "('Sunburst Snacks recalls its Spicy Cashews', 'Mustard and Celery', 'Recalled', 'This product contains mustard and celery making it a possible health risk for anyone with an allergy to celery and/or an allergy to mustard.'),\n",
    "('Flames Foods recalls various types of frozen products', 'Nuts (Almond)', 'Recalled', 'These products may contain nuts (almond) making them a possible health risk for anyone with an allergy to nuts.'),\n",
    "('Waitrose recalls Waitrose Sour Cream and Chive Mix', 'Wheat (gluten)', 'Recalled', 'This product contains wheat making it a possible health risk for anyone with an allergy or intolerance to wheat or gluten.'),\n",
    "('Mondelez UK recalls Belvita Soft Bakes Choco Hazelnut Flavour breakfast biscuits', 'Milk', 'Recalled', 'This product may contain milk making it a possible health risk for anyone with an allergy or intolerance to milk or milk constituents.'),\n",
    "('Lidl Northern Ireland recalls three products', 'Milk, wheat, and egg', 'Recalled', 'The above products contain milk, wheat and egg, which have not been mentioned on the label. This makes the product unsafe for anyone with an allergy or intolerance to milk or its constituents, an allergy or intolerance to wheat or gluten and/or an allergy or intolerance to egg.')\n",
    "]\n",
    "\n",
    "cur.executemany('''\n",
    "INSERT INTO ProductRecalls (ProductName, UndeclaredAllergen, ActionTaken, RiskToConsumers)\n",
    "VALUES (?, ?, ?, ?)\n",
    "''', recalls)\n",
    "\n",
    "# Commit the changes and close the connection\n",
    "conn.commit()"
   ]
  },
  {
   "cell_type": "code",
   "execution_count": 23,
   "metadata": {},
   "outputs": [],
   "source": [
    "recall= [\n",
    "    ('Vegetable pie', 'Fish', 'Recalled', 'Possible adverse effects to allergy sufferers.'),\n",
    "('Sausage rolls 6pk', 'Milk', 'Recalled', 'Possible adverse effects to allergy sufferers.'),\n",
    "('Quickeat Poha', 'Peanut', 'Recalled', 'Possible adverse effects to allergy sufferers.'),\n",
    "('Two types of condiments', 'Sulphur dioxide', 'Recalled', 'Possible adverse effects to allergy sufferers.'),\n",
    "('Gluten free brownie', 'Walnuts', 'Recalled', 'Possible adverse effects to allergy sufferers.'),\n",
    "('A batch of flour', 'Gluten', 'Recalled', 'Possible adverse effects to allergy sufferers.'),\n",
    "('Four types of beer', 'Wheat (gluten)', 'Recalled', 'Possible adverse effects to allergy sufferers.'),\n",
    "('Chinese chicken curry with Egg Fried Rice', 'Milk', 'Recalled', 'Possible adverse effects to allergy sufferers.'),\n",
    "('Coconut almond butter', 'Peanut', 'Recalled', 'Possible adverse effects to allergy sufferers.'),\n",
    "('Energy bars', 'Milk', 'Recalled', 'Possible adverse effects to allergy sufferers.'),\n",
    "('Beef sirloin steak with garlic and herb butter', 'Milk', 'Recalled', 'Possible adverse effects to allergy sufferers.'),\n",
    "('Rolled white icing', 'Almonds', 'Recalled', 'Possible adverse effects to allergy sufferers'),\n",
    "('2 Vegetable Balti', 'Milk', 'Recalled', 'Possible adverse effects to allergy sufferers.'),\n",
    "('Gingerbread cake', 'Nuts', 'Recalled', 'Possible adverse effects to allergy sufferers.'),\n",
    "('Four dip and salad products', 'Soya, wheat (gluten), and sesame', 'Recalled', 'Possible adverse effects to allergy sufferers.'),\n",
    "('Chocolate chip cookies', 'Milk', 'Recalled', 'Possible adverse effects to allergy sufferers.'),\n",
    "('Ready salted crisps 6 pack', 'Milk', 'Recalled', 'Possible adverse effects to allergy sufferers.')\n",
    "]\n",
    "\n",
    "cur.executemany('''\n",
    "INSERT INTO ProductRecalls (ProductName, UndeclaredAllergen, ActionTaken, RiskToConsumers)\n",
    "VALUES (?, ?, ?, ?)\n",
    "''', recalls)\n",
    "\n",
    "# Commit the changes and close the connection\n",
    "conn.commit()\n"
   ]
  },
  {
   "cell_type": "code",
   "execution_count": 24,
   "metadata": {},
   "outputs": [],
   "source": [
    "recall = [\n",
    "    ('Chicken and Bacon Layered Salad', 'Milk', 'Recalled', 'Possible adverse effects to allergy sufferers.'),\n",
    "('Sliced Chorizo', 'Incorrect allergen labelling', 'Recalled', 'Possible adverse effects to allergy sufferers.'),\n",
    "('Various Protein Granola Trail Mixes', 'Incorrect allergen labelling', 'Recalled', 'Possible adverse effects to allergy sufferers.'),\n",
    "('Wasabi Peas', 'Wheat (gluten)', 'Recalled', 'Possible adverse effects to allergy sufferers.'),\n",
    "('Hot Pepper Pickle', 'Mustard', 'Recalled', 'Possible adverse effects to allergy sufferers.'),\n",
    "('Various Energy drinks', 'Soya and milk', 'Recalled', 'Possible adverse effects to allergy sufferers.'),\n",
    "('Chocolate patisserie rolls', 'Soya', 'Recalled', 'Possible adverse effects to allergy sufferers.'),\n",
    "('Fruit & Nut snacks', 'Brazil nuts', 'Recalled', 'Possible adverse effects to allergy sufferers.'),\n",
    "('Horseradish Sauce', 'Sulphites', 'Recalled', 'Possible adverse effects to allergy sufferers.'),\n",
    "('Four varieties of Drinking Chocolate Sticks', 'Allergenic ingredients not declared in English', 'Recalled', 'Possible adverse effects to allergy sufferers.'),\n",
    "('Fried Rice with Spiced Poppadum Potato & Peanuts', 'Incorrect allergen labelling', 'Recalled', 'Possible adverse effects to allergy sufferers.'),\n",
    "('Protein Powder Food Supplement', 'Soya and milk', 'Recalled', 'Possible adverse effects to allergy sufferers.'),\n",
    "('Barbecue Flavour Coated Peanuts', 'Cashew nuts', 'Recalled', 'Possible adverse effects to allergy sufferers.'),\n",
    "('Various Snacking Pockets', 'Nuts and sulphites', 'Recalled', 'Possible adverse effects to allergy sufferers.'),\n",
    "('Seed and Grain Sliced Pan', 'Soya (NI only)', 'Recalled', 'Possible adverse effects to allergy sufferers.'),\n",
    "('Carrot Cake and Chocolate Fudge Cake', 'Undeclared allergens', 'Recalled', 'Possible adverse effects to allergy sufferers.'),\n",
    "('Decor Kit', 'Allergens not being clearly labelled', 'Recalled', 'Possible adverse effects to allergy sufferers.'),\n",
    "('Heera Punjabi Wadi', 'Gluten and soya', 'Recalled', 'Possible adverse effects to allergy sufferers.'),\n",
    "('Shortcrust Chicken Pies', 'Mustard', 'Recalled', 'Possible adverse effects to allergy sufferers.'),\n",
    "('Vitamin and Mineral Enriched Meal in a Drink', 'Undeclared allergens', 'Recalled', 'Possible adverse effects to allergy sufferers.'),\n",
    "('Chicken & Mushroom Pie', 'Fish and mustard', 'Recalled', 'Possible adverse effects to allergy sufferers.'),\n",
    "('Vegetable Spring Rolls', 'Prawns', 'Recalled', 'Possible adverse effects to allergy sufferers.'),\n",
    "('Protein Porridge', 'Incorrect allergen labelling', 'Recalled', 'Possible adverse effects to allergy sufferers.'),\n",
    "('Chicken Products', 'Undeclared allergens', 'Recalled', 'Possible adverse effects to allergy sufferers.'),\n",
    "('Various varieties of cakes', 'Undeclared and incorrectly labelled allergens', 'Recalled', 'Possible adverse effects to allergy sufferers.'),\n",
    "('Ready Rolled Icing White', 'Nuts (almonds)', 'Recalled', 'Possible adverse effects to allergy sufferers.'),\n",
    "('Organic Buckwheat Noodles with Amaranth', 'Gluten', 'Recalled', 'Possible adverse effects to allergy sufferers.')\n",
    "]\n",
    "\n",
    "cur.executemany('''\n",
    "INSERT INTO ProductRecalls (ProductName, UndeclaredAllergen, ActionTaken, RiskToConsumers)\n",
    "VALUES (?, ?, ?, ?)\n",
    "''', recalls)\n",
    "\n",
    "# Commit the changes and close the connection\n",
    "conn.commit()\n"
   ]
  },
  {
   "cell_type": "code",
   "execution_count": 25,
   "metadata": {},
   "outputs": [],
   "source": [
    "recall = [\n",
    "    ('The National Trust biscuits', 'Peanuts and or tree nuts', 'Recalled', 'Peanuts and or tree nuts. These products may contain nuts making them a possible health risk for anyone with an allergy to peanuts and/or tree nuts.'),\n",
    "('Farmhouse Biscuits Ltd Honey & Oat Biscuits', 'Wheat', 'Recalled', 'Wheat (gluten). This product contains wheat making it a possible health risk for anyone with an allergy or intolerance to wheat or gluten'),\n",
    "('Southern Synergy Arnott’s Shapes Originals varieties', 'Celery and/or Mustard', 'Recalled', 'Celery and/or Mustard. These products contain celery and/or mustard making them a possible health risk for anyone with an allergy to celery and/or mustard.'),\n",
    "('Booths Chicken Tikka Masala with Pilau Rice Pot', 'Nuts (cashew nuts)', 'Recalled', 'Nuts (cashew nuts). This product contains cashew nuts making it a possible health risk for anyone with an allergy to nuts.'),\n",
    "('Azka Impex PRAN Muri Moa', 'Milk', 'Recalled', 'Milk. This product contains milk making it a possible health risk for anyone with an allergy or intolerance to milk or milk constituents.'),\n",
    "('Booths Honey & Spelt Bread', 'Soya', 'Recalled', 'Soya. This product contains soya making it a possible health risk for anyone with an allergy to soya.'),\n",
    "('Booths Honey & Spelt Bread', 'Barley (gluten), lupin and sesame', 'Recalled', 'Barley (gluten), lupin and sesame.. This product contains barley (gluten), lupin and sesame making it a possible health risk for anyone with an allergy or intolerance to lupin and/or sesame and/or an allergy or intolerance to barley (gluten).'),\n",
    "('Milegate Ltd Noury Individually Quick Frozen Prawns', 'Crustaceans, sulphites', 'Recalled', 'Crustaceans, sulphites. This product contains crustaceans and sulphites making it a possible health risk for anyone with an allergy to crustaceans and/or a sensitivity to sulphur dioxide and/or sulphites.'),\n",
    "('Southern Synergy Arnott’s products', 'Celery and Mustard', 'Recalled', 'Celery and Mustard. These products contain celery and/or mustard making them a possible health risk for anyone with an allergy to celery and/or mustard.'),\n",
    "('John & Pascalis Four Seasons Sesame Tahini', 'Peanuts', 'Recalled', 'Peanuts. These products contain peanuts, making them a possible health risk for anyone with an allergy to peanuts.'),\n",
    "('ASDA ASDA Frozen Smooth Mashed Potato', 'Wheat (gluten)', 'Recalled', 'Wheat (gluten). This product contains wheat (gluten) making it a possible health risk for anyone with an allergy or intolerance to wheat or gluten.'),\n",
    "('Waitrose Normandy Pork Casserole', 'Milk', 'Recalled', 'Milk. . This product contains milk making it a possible health risk for anyone with an allergy or intolerance to milk or milk constituents.'),\n",
    "('Espresso Warehouse Wooden Spoon products', 'Soya, Milk and/or Wheat (gluten)', 'Recalled', 'Risk: Soya, Milk and/or Wheat (gluten). . The products listed above contain soya, milk or wheat (gluten) making them a possible health risk for anyone with an allergy or intolerance to milk or milk constituents or wheat (gluten) or an allergy to soya.'),\n",
    "('The Grocer Ltd Spinach & Broccoli Soup', 'Milk', 'Recalled', 'Milk. This product contains milk making it a possible health risk for anyone with an allergy or intolerance to milk or milk constituents.'),\n",
    "('Greco Brothers Ltd Greco Brothers 20 Choc Wafers', 'Milk', 'Recalled', 'Milk. This product contains milk making it a possible health risk for anyone with an allergy or intolerance to milk or milk constituents'),\n",
    "('Waitrose Sweet Potato Fries', 'Wheat (gluten) and Soya', 'Recalled', 'Wheat (gluten) and Soya. This product may contain wheat (gluten) and soya making it a possible health risk for anyone with an allergy or intolerance to wheat or gluten, and/or with an allergy to soya.'),\n",
    "('Tesco Pea and Spinach Dip and Tesco Roasted Carrot and Chickpea Dip', 'Milk', 'Recalled', 'Milk. . These products contain milk making it a possible health risk for anyone with an allergy or intolerance to milk or milk constituents.'),\n",
    "('Spartan Protein various products', 'Milk, Wheat (gluten) and/or Peanuts', 'Recalled', 'Milk, Wheat (gluten) and/or Peanuts. . The products listed above contain milk (all products) and peanuts and wheat (gluten) (Peanut Butter & Cacao Flapjack & Peanut Butter & Honey Flapjack) making them a possible health risk for anyone with an allergy or intolerance to milk or milk constituents or wheat (gluten), or an allergy to peanuts.'),\n",
    "('Waitrose Aromatic Green & White Chickpea and Bean Salad', 'Wheat and Barley (gluten), Nuts, mustard, and soya.', 'Recalled', 'Wheat and Barley (gluten), Nuts, mustard, and soya.. This product contains wheat and barley (gluten), nuts, mustard and soya, making it a possible health risk for anyone with an allergy or intolerance to wheat and barley (gluten), and/or an allergy to nuts, mustard, and soya.'),\n",
    "('Candyco Monarch Confectionary products', 'Milk', 'Recalled', 'Milk. The products contain milk making it a possible health risk for anyone with an allergy or intolerance to milk or milk constituents.'),\n",
    "('Cully and Sully Smoked Haddock and Salmon Chowder', 'Molluscs', 'Recalled', 'Molluscs. This product contains molluscs making it a possible health risk for anyone with an allergy to molluscs.'),\n",
    "('SlimFast Advanced Vitality Strawberry + Blueberry Burst Meal Replacement Powder Shake Vegan', 'Milk', 'Recalled', 'Milk. This product contains milk making it a possible health risk for anyone with an allergy or intolerance to milk or milk constituents.'),\n",
    "('Gardiners of Scotland Scottish Macaroon Bars', 'Soya', 'Recalled', 'Soya. This product contains soya making it a possible health risk for anyone with an allergy to soya.'),\n",
    "('Walkers Sensations Thai Sweet Chilli Flavour Potato Crisps', 'Wheat (gluten)', 'Recalled', 'Wheat (gluten). The products contain wheat making them a possible health risk for anyone with an allergy or intolerance to wheat or gluten.'),\n",
    "('Clive’s Bombay Vegetables with Daal Tarts', 'Mustard, sesame', 'Recalled', 'Mustard, sesame. This product contains mustard and sesame making it a possible health risk for anyone with an allergy to mustard and/or sesame.'),\n",
    "('Nisa Heritage Dark Chocolate', 'Milk', 'Recalled', 'Milk. This product contains milk making it a possible health risk for anyone with an allergy or intolerance to milk or milk constituents.'),\n",
    "('Hon Shen Ltd Nissin Foods Holdings Spicy Beef Flavour Cup Noodles', 'Egg, wheat (gluten), milk, soya', 'Recalled', 'The product contains egg, wheat (gluten), milk or soya making it a possible health risk for anyone with an allergy or intolerance to egg and/or wheat (gluten), and/or allergy or intolerance to milk or milk constituents, and/or an allergy to soya.'),\n",
    "('English Cheesecake Company Treacle Tart Cheesecake slices', 'Soya', 'Recalled', 'Soya. This product contains soya making it a possible health risk for anyone with an allergy to soya.'),\n",
    "('Centra Inspired by Centra Chocolate Covered Raisins', 'Peanuts', 'Recalled', 'Peanuts. This product may contain peanuts, making it a possible health risk for anyone with an allergy to peanuts.')\n",
    "]\n",
    "\n",
    "cur.executemany('''\n",
    "INSERT INTO ProductRecalls (ProductName, UndeclaredAllergen, ActionTaken, RiskToConsumers)\n",
    "VALUES (?, ?, ?, ?)\n",
    "''', recalls)\n",
    "\n",
    "# Commit the changes and close the connection\n",
    "conn.commit()\n"
   ]
  },
  {
   "cell_type": "code",
   "execution_count": 26,
   "metadata": {},
   "outputs": [],
   "source": [
    "recall = [\n",
    "    ('Focused Nutrition Choc Chip Flapjack', 'Oats (gluten), soya, milk, nuts, peanuts, sulphites', 'Recalled', 'This product contains oats (gluten) and soya and may contain milk, nuts, peanuts and sulphites. This means the product is a possible health risk for anyone with an allergy to nuts, peanuts or soya, and/or an allergy or intolerance to milk or milk constituents, and/or an allergy or intolerance to oats or gluten and/or a sensitivity to sulphur dioxide and/or sulphites.'),\n",
    "('Cesare Fiorucci SpA two salami products', 'Milk', 'Recalled', 'Milk. The products contain milk making it a possible health risk for anyone with an allergy or intolerance to milk or milk constituents.'),\n",
    "('LIDL GB Alpenfest Pretzel Ice Cream', 'Egg, hazelnut, milk, soya, wheat, other nuts, peanuts, sesame', 'Recalled', 'This product contains egg, hazelnut, milk, soya, wheat and may also contain other nuts, peanuts and sesame. This means the product is a possible health risk for anyone with an allergy or intolerance to egg, milk or milk constituents, wheat or gluten, or an allergy to soya, sesame, hazelnuts, peanuts or other nuts.'),\n",
    "('Lidl Northern Ireland three products', 'Barley, other cereals containing gluten, egg, milk, nuts, peanuts, sesame, soya', 'Recalled', 'These products contain or may contain barley and other cereals containing gluten, egg, milk, nuts (almonds, hazelnuts and others), peanuts, sesame and soya.. This makes the products unsafe for anyone with an allergy to nuts (almonds, hazelnuts and others), peanuts, sesame and soya and/or an allergy or intolerance to barley and other cereals containing gluten, egg, and milk or its constituents.'),\n",
    "('Tesco Takeaway Hot Indian Meal For 2', 'Nuts (cashew nuts)', 'Recalled', 'Nuts (cashew nuts). This product contains cashew nuts which are not declared on the outer packaging making it a possible health risk for anyone with an allergy to nuts.'),\n",
    "('LIDL GB J.D. GROSS Mozart Kugeln', 'Milk, nuts, peanuts, soya, egg, cereals (gluten)', 'Recalled', 'Milk, nuts, peanuts, soya, egg, cereals (gluten). This product contains milk, almonds, hazelnuts and pistachios, and may also contain other nuts, peanuts, soya, egg and cereals containing gluten, making it a possible health risk for anyone with an allergy or intolerance egg, gluten, milk or milk constituents and/or an allergy to nuts, peanuts and soya.'),\n",
    "('Co-op Bakery Short Crust Mince Pie 4s', 'Barley (gluten)', 'Recalled', 'Barley (gluten).. This product contains barley (gluten) making it a possible health risk with an allergy or intolerance to barley (gluten).'),\n",
    "('TJX Europe (TK Maxx and Homesense) LITALY Wafer Roll products', 'Egg', 'Recalled', 'Egg. These products contain egg making them a possible health risk for anyone with an allergy or intolerance to egg.'),\n",
    "('McCormick France products from its STUBB?S range', 'Mustard', 'Recalled', 'Mustard. These products contain mustard making it a possible health risk for anyone with an allergy to mustard.'),\n",
    "('Lidl GB Baresa Green Pesto Alla Genovese', 'Peanuts', 'Recalled', 'Peanuts. This product contains peanuts making it a possible health risk for anyone with an allergy to peanuts.'),\n",
    "('Spartan Protein various products', 'Milk, oats (gluten), peanuts, soya', 'Recalled', 'These products contain milk, oats (gluten), peanuts and soya. This means the products are a possible health risk for anyone with an allergy or intolerance to milk or milk constituents, oats or gluten or an allergy to peanuts or soya.'),\n",
    "('Costa Coffee Millionaire Mallow Bites', 'Egg, wheat or gluten', 'Recalled', 'Egg, wheat or gluten.. This product contains egg and wheat making it a possible health risk for anyone with an allergy or intolerance to egg, wheat or gluten.'),\n",
    "('Harvey Nichols Dark Chocolate Gingers', 'Nuts (Pistachio)', 'Recalled', 'Nuts (Pistachio). This product contains pistachio (nuts). This means that the product is a possible health risk for anyone with an allergy to nuts.'),\n",
    "('La Boulangere Brioche Hot-Dog Buns', 'Milk and Wheat (gluten)', 'Recalled', 'Milk and Wheat (gluten). This product contains milk and wheat (gluten) making it a possible health risk for anyone with an allergy or intolerance to milk or milk constituents or an allergy or intolerance to wheat or gluten.'),\n",
    "('Mondelez UK Cadbury Dairy Milk Little Robins', 'Nuts (almonds)', 'Recalled', 'Nuts (almonds). This product contains almonds (nuts) making it a possible health risk for anyone with an allergy to nuts.'),\n",
    "('Welsh Cottage Cakes Spelt & Fruit Cake', 'Wheat (gluten)', 'Recalled', 'Wheat (gluten). This product contains wheat making it a possible health risk for anyone with an allergy or intolerance to wheat or gluten.'),\n",
    "('Waitrose Carrot & Coriander Soup', 'Barley (gluten) and celery', 'Recalled', 'Barley (gluten) and celery. This product contains barley (gluten) and celery making it a possible health risk for anyone with an allergy or intolerance to barley (gluten) and/or an allergy to celery.'),\n",
    "('Sainsbury?s Tomato & Basil Soup', 'Wheat (gluten)', 'Recalled', 'Wheat (gluten). Some products may contain wheat (gluten) making it a possible health risk for anyone with an allergy or intolerance to wheat or gluten.'),\n",
    "('Aldi British Breaded Chicken Steaks', 'Milk', 'Recalled', 'Milk. This product contains milk making it a possible health risk for anyone with an allergy or intolerance to milk or milk constituents.'),\n",
    "('Sainsbury?s Hot Buffalo Dip', 'Egg', 'Recalled', 'Egg. This product contains egg making it a possible health risk for anyone with an allergy or intolerance to egg.'),\n",
    "('TJ Morris Oxfordshire Tea Co. Butter Shortbread', 'Wheat (gluten)', 'Recalled', 'Wheat (gluten). This product contains wheat (gluten) making it a possible health risk for anyone with an allergy or intolerance to wheat or gluten.'),\n",
    "('Asda Meatball Marinara meal', 'Milk', 'Recalled', 'Milk. This product contains milk making it a possible health risk for anyone with an allergy or intolerance to milk or milk constituents.'),\n",
    "('Unilever Pot Noodle Beef & Tomato', 'Celery and mustard', 'Recalled', 'Celery and mustard. This product contains celery and mustard making it a possible health risk for anyone with an allergy to celery and/or mustard.'),\n",
    "('Oumph! ?The Chunk?', 'Mustard', 'Recalled', 'Mustard. This product contains mustard making it a possible health risk for anyone with an allergy to mustard.'),\n",
    "('Hipp UK Hipp Organic Combiotic First Infant Milk Starter Pack', 'Fish', 'Recalled', 'Fish. This product contains fish oil making it a possible health risk for anyone with an allergy to fish.'),\n",
    "('Sainsbury?s 18 Mini Egg Bites', 'Egg and mustard', 'Recalled', 'Egg and mustard. This product contains egg and mustard making it a possible health risk for anyone with an allergy or intolerance egg, and/or an allergy to mustard.'),\n",
    "('John Lewis Lazzaroni Italian Collection Christmas Gift Bag', 'Egg, milk, wheat (gluten), almonds, nuts, soya', 'Recalled', 'Egg, milk, wheat (gluten), almonds, nuts and soya.. This product contains allergens making it a possible health risk for anyone with an allergy or intolerance to egg, milk or milk constituents, wheat or gluten and/or an allergy to almonds, nuts and/or soya'),\n",
    "('Sainsbury?s Vegan Deli-Style Coleslaw and Vegan Potato Salad', 'Egg', 'Recalled', 'Egg. These products may contain egg making them a possible health risk for anyone with an allergy or intolerance to egg.'),\n",
    "('Sacla? various pesto products', 'Peanuts', 'Recalled', 'Peanuts. These products may contain peanuts making them a possible health risk for anyone with an allergy to peanuts.')\n",
    "]\n",
    "cur.executemany('''\n",
    "INSERT INTO ProductRecalls (ProductName, UndeclaredAllergen, ActionTaken, RiskToConsumers)\n",
    "VALUES (?, ?, ?, ?)\n",
    "''', recalls)\n",
    "\n",
    "# Commit the changes and close the connection\n",
    "conn.commit()\n"
   ]
  }
 ],
 "metadata": {
  "kernelspec": {
   "display_name": "Python 3",
   "language": "python",
   "name": "python3"
  },
  "language_info": {
   "codemirror_mode": {
    "name": "ipython",
    "version": 3
   },
   "file_extension": ".py",
   "mimetype": "text/x-python",
   "name": "python",
   "nbconvert_exporter": "python",
   "pygments_lexer": "ipython3",
   "version": "3.10.12"
  }
 },
 "nbformat": 4,
 "nbformat_minor": 2
}
